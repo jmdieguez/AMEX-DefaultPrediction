{
 "cells": [
  {
   "cell_type": "code",
   "execution_count": 1,
   "id": "279a48d2",
   "metadata": {
    "_kg_hide-input": true,
    "execution": {
     "iopub.execute_input": "2022-08-02T02:34:19.372637Z",
     "iopub.status.busy": "2022-08-02T02:34:19.371739Z",
     "iopub.status.idle": "2022-08-02T02:34:28.102145Z",
     "shell.execute_reply": "2022-08-02T02:34:28.100667Z"
    },
    "papermill": {
     "duration": 8.757544,
     "end_time": "2022-08-02T02:34:28.105493",
     "exception": false,
     "start_time": "2022-08-02T02:34:19.347949",
     "status": "completed"
    },
    "tags": []
   },
   "outputs": [],
   "source": [
    "import os\n",
    "import numpy as np\n",
    "import pandas as pd\n",
    "import sklearn as sk\n",
    "from sklearn import tree\n",
    "import seaborn as sns\n",
    "import xgboost as xgb\n",
    "import tensorflow as tf\n",
    "from sklearn.utils.class_weight import compute_sample_weight\n",
    "from sklearn.svm import LinearSVC\n",
    "import matplotlib.pyplot as plt\n",
    "from sklearn import preprocessing\n",
    "from sklearn.preprocessing import LabelEncoder\n",
    "from sklearn.metrics import confusion_matrix, accuracy_score, recall_score, f1_score\n",
    "from sklearn.model_selection import train_test_split\n",
    "from sklearn.ensemble import RandomForestClassifier, BaggingClassifier, VotingClassifier\n",
    "from sklearn.svm import SVC\n",
    "from sklearn.multiclass import OneVsRestClassifier\n",
    "from warnings import simplefilter\n",
    "from sklearn.exceptions import ConvergenceWarning\n",
    "from keras.models import Sequential\n",
    "from keras.layers import Dense\n",
    "from keras.wrappers.scikit_learn import KerasClassifier\n",
    "from sklearn.model_selection import cross_val_score\n",
    "from sklearn.model_selection import StratifiedKFold\n",
    "from sklearn.preprocessing import StandardScaler\n",
    "from sklearn.pipeline import Pipeline\n",
    "from tensorflow import keras\n",
    "simplefilter(\"ignore\", category=ConvergenceWarning)\n",
    "simplefilter(\"ignore\", category=UserWarning)\n",
    "sns.set(rc = {'figure.figsize':(8,8)})"
   ]
  },
  {
   "cell_type": "markdown",
   "id": "bfa24c07",
   "metadata": {
    "papermill": {
     "duration": 0.01953,
     "end_time": "2022-08-02T02:34:28.144715",
     "exception": false,
     "start_time": "2022-08-02T02:34:28.125185",
     "status": "completed"
    },
    "tags": []
   },
   "source": [
    "# Carga de Datos:"
   ]
  },
  {
   "cell_type": "markdown",
   "id": "1760e2a4",
   "metadata": {
    "papermill": {
     "duration": 0.019059,
     "end_time": "2022-08-02T02:34:28.183407",
     "exception": false,
     "start_time": "2022-08-02T02:34:28.164348",
     "status": "completed"
    },
    "tags": []
   },
   "source": [
    "## American Express - Default Prediction \n",
    "\n",
    "* [Link a la competencia](https://www.kaggle.com/competitions/amex-default-prediction)\n",
    "\n",
    "El objetivo de este trabajo es predecir la probabilidad de que un cliente no pague el monto del saldo de su tarjeta de crédito (target = 1) en el futuro en función de su perfil de cliente mensual. La variable binaria target se calcula observando la ventana de rendimiento de 18 meses después del último extracto de la tarjeta de crédito, y si el cliente no paga el monto adeudado en 120 días después de la fecha del último extracto, se considera un evento de incumplimiento.\n",
    "\n",
    "## Sampleo del Dataset:\n",
    "\n",
    "Como este conjunto de datos de entrenamiento es muy grande (Posee un peso de alrededor de 16~17 GB), realizamos un sampleo para trabajar con un subconjunto del mismo tomando solo un 5% del total de los datos (Dejandonos con aproximadamente 900 Mb).\n",
    "\n",
    "Para realizar este sampleo, utilizaremos la funcón **sample_without_replacement()** y estableceremos su **random_state** a una seed, la cual se genera a partir del numero de nuestro grupo utilizando la siguiente formula:\n",
    "\n",
    "> (31416 × (número-grupo)) % 1000\n",
    "\n",
    "## Repositorio con el sampleo:\n",
    "\n",
    "Ya que la memoria de la maquina de Kaggle no fue suficiente para levantar el set entero, realizamos el sampleo de forma local y generamos un nuevo dataset en Kaggle con el mismo.\n",
    "\n",
    "* [Repositorio con el codigo del sampleo.](https://github.com/stesta1/AMEX-DefaultPrediction/tree/sampleo)\n",
    "* [Enlace del nuevo dataset sampleado en Kaggle.](https://www.kaggle.com/datasets/santiagotesta/train-data-sampled-g14)\n",
    "\n",
    "### Seed Grupo:\n",
    "\n",
    "* Incluimos la seed del grupo a la notebook para utilizarla al balancear el dataset y generar redes neuronales mas adelante..."
   ]
  },
  {
   "cell_type": "code",
   "execution_count": 2,
   "id": "14310a15",
   "metadata": {
    "execution": {
     "iopub.execute_input": "2022-08-02T02:34:28.224310Z",
     "iopub.status.busy": "2022-08-02T02:34:28.223473Z",
     "iopub.status.idle": "2022-08-02T02:34:28.229659Z",
     "shell.execute_reply": "2022-08-02T02:34:28.228610Z"
    },
    "papermill": {
     "duration": 0.029486,
     "end_time": "2022-08-02T02:34:28.232118",
     "exception": false,
     "start_time": "2022-08-02T02:34:28.202632",
     "status": "completed"
    },
    "tags": []
   },
   "outputs": [],
   "source": [
    "NUM_GRUPO = 14\n",
    "SEED_GRUPO = (31416 * NUM_GRUPO) % 1000"
   ]
  },
  {
   "cell_type": "markdown",
   "id": "bd40aaa6",
   "metadata": {
    "papermill": {
     "duration": 0.019824,
     "end_time": "2022-08-02T02:34:28.271539",
     "exception": false,
     "start_time": "2022-08-02T02:34:28.251715",
     "status": "completed"
    },
    "tags": []
   },
   "source": [
    "# Visualización de los datos:"
   ]
  },
  {
   "cell_type": "code",
   "execution_count": 3,
   "id": "831c1e95",
   "metadata": {
    "execution": {
     "iopub.execute_input": "2022-08-02T02:34:28.312280Z",
     "iopub.status.busy": "2022-08-02T02:34:28.311797Z",
     "iopub.status.idle": "2022-08-02T02:34:48.213766Z",
     "shell.execute_reply": "2022-08-02T02:34:48.212379Z"
    },
    "papermill": {
     "duration": 19.925628,
     "end_time": "2022-08-02T02:34:48.216899",
     "exception": false,
     "start_time": "2022-08-02T02:34:28.291271",
     "status": "completed"
    },
    "tags": []
   },
   "outputs": [],
   "source": [
    "df_train_data = pd.read_csv(\"/kaggle/input/train-data-sampled-g14/train_sampled_G14.csv\")\n",
    "df_train_labels = pd.read_csv(\"../input/amex-default-prediction/train_labels.csv\")"
   ]
  },
  {
   "cell_type": "code",
   "execution_count": 4,
   "id": "bea1ff04",
   "metadata": {
    "execution": {
     "iopub.execute_input": "2022-08-02T02:34:48.256957Z",
     "iopub.status.busy": "2022-08-02T02:34:48.256483Z",
     "iopub.status.idle": "2022-08-02T02:34:48.395219Z",
     "shell.execute_reply": "2022-08-02T02:34:48.393607Z"
    },
    "papermill": {
     "duration": 0.16332,
     "end_time": "2022-08-02T02:34:48.399284",
     "exception": false,
     "start_time": "2022-08-02T02:34:48.235964",
     "status": "completed"
    },
    "tags": []
   },
   "outputs": [
    {
     "data": {
      "text/html": [
       "<div>\n",
       "<style scoped>\n",
       "    .dataframe tbody tr th:only-of-type {\n",
       "        vertical-align: middle;\n",
       "    }\n",
       "\n",
       "    .dataframe tbody tr th {\n",
       "        vertical-align: top;\n",
       "    }\n",
       "\n",
       "    .dataframe thead th {\n",
       "        text-align: right;\n",
       "    }\n",
       "</style>\n",
       "<table border=\"1\" class=\"dataframe\">\n",
       "  <thead>\n",
       "    <tr style=\"text-align: right;\">\n",
       "      <th></th>\n",
       "      <th>customer_ID</th>\n",
       "      <th>S_2</th>\n",
       "      <th>P_2</th>\n",
       "      <th>D_39</th>\n",
       "      <th>B_1</th>\n",
       "      <th>B_2</th>\n",
       "      <th>R_1</th>\n",
       "      <th>S_3</th>\n",
       "      <th>D_41</th>\n",
       "      <th>B_3</th>\n",
       "      <th>...</th>\n",
       "      <th>D_137</th>\n",
       "      <th>D_138</th>\n",
       "      <th>D_139</th>\n",
       "      <th>D_140</th>\n",
       "      <th>D_141</th>\n",
       "      <th>D_142</th>\n",
       "      <th>D_143</th>\n",
       "      <th>D_144</th>\n",
       "      <th>D_145</th>\n",
       "      <th>target</th>\n",
       "    </tr>\n",
       "  </thead>\n",
       "  <tbody>\n",
       "    <tr>\n",
       "      <th>0</th>\n",
       "      <td>3e52dec043ba1830f11dec8504f8dad5f4c88e31db5df4...</td>\n",
       "      <td>2018-01-08</td>\n",
       "      <td>0.858942</td>\n",
       "      <td>0.000937</td>\n",
       "      <td>0.003104</td>\n",
       "      <td>0.816093</td>\n",
       "      <td>0.005505</td>\n",
       "      <td>NaN</td>\n",
       "      <td>0.009372</td>\n",
       "      <td>0.005367</td>\n",
       "      <td>...</td>\n",
       "      <td>NaN</td>\n",
       "      <td>NaN</td>\n",
       "      <td>1.004304</td>\n",
       "      <td>0.008963</td>\n",
       "      <td>0.862856</td>\n",
       "      <td>0.058511</td>\n",
       "      <td>1.003286</td>\n",
       "      <td>0.003099</td>\n",
       "      <td>0.279170</td>\n",
       "      <td>0</td>\n",
       "    </tr>\n",
       "    <tr>\n",
       "      <th>1</th>\n",
       "      <td>e3987751af785c63681334119e0ae8ef61b9195c535fa1...</td>\n",
       "      <td>2018-03-23</td>\n",
       "      <td>0.636110</td>\n",
       "      <td>0.118810</td>\n",
       "      <td>0.013186</td>\n",
       "      <td>0.811999</td>\n",
       "      <td>0.005139</td>\n",
       "      <td>0.182632</td>\n",
       "      <td>0.009313</td>\n",
       "      <td>0.001701</td>\n",
       "      <td>...</td>\n",
       "      <td>NaN</td>\n",
       "      <td>NaN</td>\n",
       "      <td>0.001163</td>\n",
       "      <td>0.000047</td>\n",
       "      <td>0.001250</td>\n",
       "      <td>NaN</td>\n",
       "      <td>0.005394</td>\n",
       "      <td>0.005578</td>\n",
       "      <td>0.009653</td>\n",
       "      <td>0</td>\n",
       "    </tr>\n",
       "    <tr>\n",
       "      <th>2</th>\n",
       "      <td>ca5cc31bdd33599e7f3e4f0af37bf53c90f441ff9d426e...</td>\n",
       "      <td>2017-09-07</td>\n",
       "      <td>0.649134</td>\n",
       "      <td>0.592575</td>\n",
       "      <td>0.052248</td>\n",
       "      <td>0.059354</td>\n",
       "      <td>0.004992</td>\n",
       "      <td>0.179298</td>\n",
       "      <td>0.007444</td>\n",
       "      <td>0.142352</td>\n",
       "      <td>...</td>\n",
       "      <td>NaN</td>\n",
       "      <td>NaN</td>\n",
       "      <td>0.007144</td>\n",
       "      <td>0.005600</td>\n",
       "      <td>0.009201</td>\n",
       "      <td>NaN</td>\n",
       "      <td>0.009573</td>\n",
       "      <td>0.007255</td>\n",
       "      <td>0.006836</td>\n",
       "      <td>0</td>\n",
       "    </tr>\n",
       "    <tr>\n",
       "      <th>3</th>\n",
       "      <td>708495d85d01123238b8feea562f321df6306e9d131994...</td>\n",
       "      <td>2017-03-05</td>\n",
       "      <td>0.587330</td>\n",
       "      <td>0.004235</td>\n",
       "      <td>0.621175</td>\n",
       "      <td>0.037618</td>\n",
       "      <td>0.008271</td>\n",
       "      <td>0.160576</td>\n",
       "      <td>0.007185</td>\n",
       "      <td>0.461215</td>\n",
       "      <td>...</td>\n",
       "      <td>NaN</td>\n",
       "      <td>NaN</td>\n",
       "      <td>0.001627</td>\n",
       "      <td>0.002387</td>\n",
       "      <td>0.007506</td>\n",
       "      <td>NaN</td>\n",
       "      <td>0.004292</td>\n",
       "      <td>0.000031</td>\n",
       "      <td>0.009824</td>\n",
       "      <td>0</td>\n",
       "    </tr>\n",
       "    <tr>\n",
       "      <th>4</th>\n",
       "      <td>8e6325448ec00c432151b1f678db276baa1cf31885faa6...</td>\n",
       "      <td>2017-03-28</td>\n",
       "      <td>0.677123</td>\n",
       "      <td>0.564526</td>\n",
       "      <td>0.119460</td>\n",
       "      <td>1.004468</td>\n",
       "      <td>0.009573</td>\n",
       "      <td>0.118454</td>\n",
       "      <td>0.007558</td>\n",
       "      <td>0.006660</td>\n",
       "      <td>...</td>\n",
       "      <td>NaN</td>\n",
       "      <td>NaN</td>\n",
       "      <td>0.003359</td>\n",
       "      <td>0.000864</td>\n",
       "      <td>0.003049</td>\n",
       "      <td>NaN</td>\n",
       "      <td>0.000476</td>\n",
       "      <td>0.005799</td>\n",
       "      <td>0.008635</td>\n",
       "      <td>0</td>\n",
       "    </tr>\n",
       "    <tr>\n",
       "      <th>...</th>\n",
       "      <td>...</td>\n",
       "      <td>...</td>\n",
       "      <td>...</td>\n",
       "      <td>...</td>\n",
       "      <td>...</td>\n",
       "      <td>...</td>\n",
       "      <td>...</td>\n",
       "      <td>...</td>\n",
       "      <td>...</td>\n",
       "      <td>...</td>\n",
       "      <td>...</td>\n",
       "      <td>...</td>\n",
       "      <td>...</td>\n",
       "      <td>...</td>\n",
       "      <td>...</td>\n",
       "      <td>...</td>\n",
       "      <td>...</td>\n",
       "      <td>...</td>\n",
       "      <td>...</td>\n",
       "      <td>...</td>\n",
       "      <td>...</td>\n",
       "    </tr>\n",
       "    <tr>\n",
       "      <th>276568</th>\n",
       "      <td>b6259aafe1cbc4057902bfebf7be7fe82110ad1d65c96e...</td>\n",
       "      <td>2018-03-07</td>\n",
       "      <td>0.588909</td>\n",
       "      <td>0.001066</td>\n",
       "      <td>0.043523</td>\n",
       "      <td>1.004289</td>\n",
       "      <td>0.007397</td>\n",
       "      <td>0.314670</td>\n",
       "      <td>0.008588</td>\n",
       "      <td>0.002235</td>\n",
       "      <td>...</td>\n",
       "      <td>NaN</td>\n",
       "      <td>NaN</td>\n",
       "      <td>0.008907</td>\n",
       "      <td>0.003037</td>\n",
       "      <td>0.009398</td>\n",
       "      <td>NaN</td>\n",
       "      <td>0.006577</td>\n",
       "      <td>0.001516</td>\n",
       "      <td>0.006332</td>\n",
       "      <td>0</td>\n",
       "    </tr>\n",
       "    <tr>\n",
       "      <th>276569</th>\n",
       "      <td>8a14e8811699dd4915d710ffbc3c0e81da1b6f36994a63...</td>\n",
       "      <td>2017-06-27</td>\n",
       "      <td>1.007882</td>\n",
       "      <td>0.007331</td>\n",
       "      <td>0.016122</td>\n",
       "      <td>1.003101</td>\n",
       "      <td>0.009691</td>\n",
       "      <td>0.134467</td>\n",
       "      <td>0.008111</td>\n",
       "      <td>0.005704</td>\n",
       "      <td>...</td>\n",
       "      <td>NaN</td>\n",
       "      <td>NaN</td>\n",
       "      <td>0.005209</td>\n",
       "      <td>0.008816</td>\n",
       "      <td>0.001328</td>\n",
       "      <td>NaN</td>\n",
       "      <td>0.006936</td>\n",
       "      <td>0.009363</td>\n",
       "      <td>0.001241</td>\n",
       "      <td>0</td>\n",
       "    </tr>\n",
       "    <tr>\n",
       "      <th>276570</th>\n",
       "      <td>d88b441c8d31ae094880074ad914714fe3dd9836acccbe...</td>\n",
       "      <td>2018-03-23</td>\n",
       "      <td>0.719087</td>\n",
       "      <td>0.007391</td>\n",
       "      <td>0.005794</td>\n",
       "      <td>0.817552</td>\n",
       "      <td>0.006848</td>\n",
       "      <td>0.129134</td>\n",
       "      <td>0.009438</td>\n",
       "      <td>0.010734</td>\n",
       "      <td>...</td>\n",
       "      <td>NaN</td>\n",
       "      <td>NaN</td>\n",
       "      <td>0.002578</td>\n",
       "      <td>0.002462</td>\n",
       "      <td>0.002067</td>\n",
       "      <td>NaN</td>\n",
       "      <td>0.001170</td>\n",
       "      <td>0.001336</td>\n",
       "      <td>0.007757</td>\n",
       "      <td>0</td>\n",
       "    </tr>\n",
       "    <tr>\n",
       "      <th>276571</th>\n",
       "      <td>a31070910c61e92852b56ba61538750021491de5782396...</td>\n",
       "      <td>2017-09-18</td>\n",
       "      <td>0.691608</td>\n",
       "      <td>0.004745</td>\n",
       "      <td>0.385502</td>\n",
       "      <td>0.034945</td>\n",
       "      <td>0.002566</td>\n",
       "      <td>0.418757</td>\n",
       "      <td>0.001406</td>\n",
       "      <td>0.305104</td>\n",
       "      <td>...</td>\n",
       "      <td>NaN</td>\n",
       "      <td>NaN</td>\n",
       "      <td>0.001581</td>\n",
       "      <td>0.009791</td>\n",
       "      <td>0.001876</td>\n",
       "      <td>NaN</td>\n",
       "      <td>0.000892</td>\n",
       "      <td>0.000459</td>\n",
       "      <td>0.004343</td>\n",
       "      <td>1</td>\n",
       "    </tr>\n",
       "    <tr>\n",
       "      <th>276572</th>\n",
       "      <td>4ac96f22ef5f64a403cb7c305b1b99f96023feaee303bf...</td>\n",
       "      <td>2017-11-10</td>\n",
       "      <td>0.908038</td>\n",
       "      <td>0.007089</td>\n",
       "      <td>0.009355</td>\n",
       "      <td>0.810059</td>\n",
       "      <td>0.009408</td>\n",
       "      <td>0.158534</td>\n",
       "      <td>0.008493</td>\n",
       "      <td>0.008355</td>\n",
       "      <td>...</td>\n",
       "      <td>NaN</td>\n",
       "      <td>NaN</td>\n",
       "      <td>0.001663</td>\n",
       "      <td>0.009961</td>\n",
       "      <td>0.004375</td>\n",
       "      <td>NaN</td>\n",
       "      <td>0.009144</td>\n",
       "      <td>0.001892</td>\n",
       "      <td>0.004490</td>\n",
       "      <td>0</td>\n",
       "    </tr>\n",
       "  </tbody>\n",
       "</table>\n",
       "<p>276573 rows × 191 columns</p>\n",
       "</div>"
      ],
      "text/plain": [
       "                                              customer_ID         S_2  \\\n",
       "0       3e52dec043ba1830f11dec8504f8dad5f4c88e31db5df4...  2018-01-08   \n",
       "1       e3987751af785c63681334119e0ae8ef61b9195c535fa1...  2018-03-23   \n",
       "2       ca5cc31bdd33599e7f3e4f0af37bf53c90f441ff9d426e...  2017-09-07   \n",
       "3       708495d85d01123238b8feea562f321df6306e9d131994...  2017-03-05   \n",
       "4       8e6325448ec00c432151b1f678db276baa1cf31885faa6...  2017-03-28   \n",
       "...                                                   ...         ...   \n",
       "276568  b6259aafe1cbc4057902bfebf7be7fe82110ad1d65c96e...  2018-03-07   \n",
       "276569  8a14e8811699dd4915d710ffbc3c0e81da1b6f36994a63...  2017-06-27   \n",
       "276570  d88b441c8d31ae094880074ad914714fe3dd9836acccbe...  2018-03-23   \n",
       "276571  a31070910c61e92852b56ba61538750021491de5782396...  2017-09-18   \n",
       "276572  4ac96f22ef5f64a403cb7c305b1b99f96023feaee303bf...  2017-11-10   \n",
       "\n",
       "             P_2      D_39       B_1       B_2       R_1       S_3      D_41  \\\n",
       "0       0.858942  0.000937  0.003104  0.816093  0.005505       NaN  0.009372   \n",
       "1       0.636110  0.118810  0.013186  0.811999  0.005139  0.182632  0.009313   \n",
       "2       0.649134  0.592575  0.052248  0.059354  0.004992  0.179298  0.007444   \n",
       "3       0.587330  0.004235  0.621175  0.037618  0.008271  0.160576  0.007185   \n",
       "4       0.677123  0.564526  0.119460  1.004468  0.009573  0.118454  0.007558   \n",
       "...          ...       ...       ...       ...       ...       ...       ...   \n",
       "276568  0.588909  0.001066  0.043523  1.004289  0.007397  0.314670  0.008588   \n",
       "276569  1.007882  0.007331  0.016122  1.003101  0.009691  0.134467  0.008111   \n",
       "276570  0.719087  0.007391  0.005794  0.817552  0.006848  0.129134  0.009438   \n",
       "276571  0.691608  0.004745  0.385502  0.034945  0.002566  0.418757  0.001406   \n",
       "276572  0.908038  0.007089  0.009355  0.810059  0.009408  0.158534  0.008493   \n",
       "\n",
       "             B_3  ...  D_137  D_138     D_139     D_140     D_141     D_142  \\\n",
       "0       0.005367  ...    NaN    NaN  1.004304  0.008963  0.862856  0.058511   \n",
       "1       0.001701  ...    NaN    NaN  0.001163  0.000047  0.001250       NaN   \n",
       "2       0.142352  ...    NaN    NaN  0.007144  0.005600  0.009201       NaN   \n",
       "3       0.461215  ...    NaN    NaN  0.001627  0.002387  0.007506       NaN   \n",
       "4       0.006660  ...    NaN    NaN  0.003359  0.000864  0.003049       NaN   \n",
       "...          ...  ...    ...    ...       ...       ...       ...       ...   \n",
       "276568  0.002235  ...    NaN    NaN  0.008907  0.003037  0.009398       NaN   \n",
       "276569  0.005704  ...    NaN    NaN  0.005209  0.008816  0.001328       NaN   \n",
       "276570  0.010734  ...    NaN    NaN  0.002578  0.002462  0.002067       NaN   \n",
       "276571  0.305104  ...    NaN    NaN  0.001581  0.009791  0.001876       NaN   \n",
       "276572  0.008355  ...    NaN    NaN  0.001663  0.009961  0.004375       NaN   \n",
       "\n",
       "           D_143     D_144     D_145  target  \n",
       "0       1.003286  0.003099  0.279170       0  \n",
       "1       0.005394  0.005578  0.009653       0  \n",
       "2       0.009573  0.007255  0.006836       0  \n",
       "3       0.004292  0.000031  0.009824       0  \n",
       "4       0.000476  0.005799  0.008635       0  \n",
       "...          ...       ...       ...     ...  \n",
       "276568  0.006577  0.001516  0.006332       0  \n",
       "276569  0.006936  0.009363  0.001241       0  \n",
       "276570  0.001170  0.001336  0.007757       0  \n",
       "276571  0.000892  0.000459  0.004343       1  \n",
       "276572  0.009144  0.001892  0.004490       0  \n",
       "\n",
       "[276573 rows x 191 columns]"
      ]
     },
     "execution_count": 4,
     "metadata": {},
     "output_type": "execute_result"
    }
   ],
   "source": [
    "df_train_data"
   ]
  },
  {
   "cell_type": "markdown",
   "id": "f252a715",
   "metadata": {
    "papermill": {
     "duration": 0.0193,
     "end_time": "2022-08-02T02:34:48.439025",
     "exception": false,
     "start_time": "2022-08-02T02:34:48.419725",
     "status": "completed"
    },
    "tags": []
   },
   "source": [
    "Analizamos la distribución de la variable target dentro del dataset. Como se puede apreciar en el siguiente gráfico, **el conjunto se encuentra desbalanceado** (es lógico que la cantidad de clientes que paga el saldo de su cuenta sea mayor). "
   ]
  },
  {
   "cell_type": "code",
   "execution_count": 5,
   "id": "5b70953f",
   "metadata": {
    "execution": {
     "iopub.execute_input": "2022-08-02T02:34:48.480301Z",
     "iopub.status.busy": "2022-08-02T02:34:48.479840Z",
     "iopub.status.idle": "2022-08-02T02:34:48.762415Z",
     "shell.execute_reply": "2022-08-02T02:34:48.761103Z"
    },
    "papermill": {
     "duration": 0.305639,
     "end_time": "2022-08-02T02:34:48.765021",
     "exception": false,
     "start_time": "2022-08-02T02:34:48.459382",
     "status": "completed"
    },
    "tags": []
   },
   "outputs": [
    {
     "data": {
      "image/png": "[encoded data removed]",
      "text/plain": [
       "<Figure size 576x576 with 1 Axes>"
      ]
     },
     "metadata": {},
     "output_type": "display_data"
    }
   ],
   "source": [
    "g = sns.countplot(x = \"target\", data = df_train_labels)"
   ]
  },
  {
   "cell_type": "markdown",
   "id": "7a48ecda",
   "metadata": {
    "papermill": {
     "duration": 0.019729,
     "end_time": "2022-08-02T02:34:48.804959",
     "exception": false,
     "start_time": "2022-08-02T02:34:48.785230",
     "status": "completed"
    },
    "tags": []
   },
   "source": [
    "Acto seguido, visualizamos la distribución de los valores en los atributos categóricos del dataset. Para estas variables categoricas, se presentarán gráficos del tipo countplot, los cuales cuentan, para cada variable, la cantidad de repeticiones de cada valor posible que estas pueden tomar."
   ]
  },
  {
   "cell_type": "code",
   "execution_count": 6,
   "id": "9a39d025",
   "metadata": {
    "execution": {
     "iopub.execute_input": "2022-08-02T02:34:48.847241Z",
     "iopub.status.busy": "2022-08-02T02:34:48.846758Z",
     "iopub.status.idle": "2022-08-02T02:34:51.384444Z",
     "shell.execute_reply": "2022-08-02T02:34:51.383331Z"
    },
    "papermill": {
     "duration": 2.563231,
     "end_time": "2022-08-02T02:34:51.388217",
     "exception": false,
     "start_time": "2022-08-02T02:34:48.824986",
     "status": "completed"
    },
    "tags": []
   },
   "outputs": [
    {
     "data": {
      "image/png": "[encoded data removed]",
      "text/plain": [
       "<Figure size 1080x5040 with 11 Axes>"
      ]
     },
     "metadata": {},
     "output_type": "display_data"
    }
   ],
   "source": [
    "categoricas = ['B_30', 'B_38', 'D_114', 'D_116', 'D_117', 'D_120', 'D_126', 'D_63', 'D_64', 'D_66', 'D_68']\n",
    "fig, ax = plt.subplots(11, 1, figsize=(15, 70), sharex=True)\n",
    "\n",
    "for i, col in enumerate(categoricas):\n",
    "    graph = sns.countplot(y=df_train_data[col], ax=ax[i])\n",
    "    ax[i].set_title(*[col])\n",
    "    graph.bar_label(graph.containers[0])"
   ]
  },
  {
   "cell_type": "markdown",
   "id": "3c87231d",
   "metadata": {
    "papermill": {
     "duration": 0.021919,
     "end_time": "2022-08-02T02:34:51.432311",
     "exception": false,
     "start_time": "2022-08-02T02:34:51.410392",
     "status": "completed"
    },
    "tags": []
   },
   "source": [
    "A partir de los gráficos expuestos, se puede observar que hay algunas variables que no están bien distribuidas en sus valores posibles, es decir, la mayoría del conteo recae sobre unos pocos valores de estas variables. Estas mismas son las variables B_30, D_116, D_120, D_126, D_63 y D_66, mientras que el resto de ellas se encuentran balanceadas."
   ]
  },
  {
   "cell_type": "code",
   "execution_count": 7,
   "id": "8e029e3a",
   "metadata": {
    "_kg_hide-input": true,
    "execution": {
     "iopub.execute_input": "2022-08-02T02:34:51.481655Z",
     "iopub.status.busy": "2022-08-02T02:34:51.480692Z",
     "iopub.status.idle": "2022-08-02T02:34:51.486709Z",
     "shell.execute_reply": "2022-08-02T02:34:51.485476Z"
    },
    "papermill": {
     "duration": 0.033522,
     "end_time": "2022-08-02T02:34:51.489367",
     "exception": false,
     "start_time": "2022-08-02T02:34:51.455845",
     "status": "completed"
    },
    "tags": []
   },
   "outputs": [],
   "source": [
    "sns.set(rc = {'figure.figsize':(8,8)})"
   ]
  },
  {
   "cell_type": "markdown",
   "id": "507e7107",
   "metadata": {
    "papermill": {
     "duration": 0.021929,
     "end_time": "2022-08-02T02:34:51.534279",
     "exception": false,
     "start_time": "2022-08-02T02:34:51.512350",
     "status": "completed"
    },
    "tags": []
   },
   "source": [
    "# Ing. Caracteristicas:\n",
    "\n",
    "## Balanceo del set:\n",
    "\n",
    "Distribucion de Target en el dataset original:"
   ]
  },
  {
   "cell_type": "code",
   "execution_count": 8,
   "id": "e3ceaf90",
   "metadata": {
    "execution": {
     "iopub.execute_input": "2022-08-02T02:34:51.579477Z",
     "iopub.status.busy": "2022-08-02T02:34:51.578999Z",
     "iopub.status.idle": "2022-08-02T02:34:51.830656Z",
     "shell.execute_reply": "2022-08-02T02:34:51.829343Z"
    },
    "papermill": {
     "duration": 0.277678,
     "end_time": "2022-08-02T02:34:51.833393",
     "exception": false,
     "start_time": "2022-08-02T02:34:51.555715",
     "status": "completed"
    },
    "tags": []
   },
   "outputs": [
    {
     "data": {
      "text/plain": [
       "<AxesSubplot:xlabel='target', ylabel='count'>"
      ]
     },
     "execution_count": 8,
     "metadata": {},
     "output_type": "execute_result"
    },
    {
     "data": {
      "image/png": "[encoded data removed]",
      "text/plain": [
       "<Figure size 576x576 with 1 Axes>"
      ]
     },
     "metadata": {},
     "output_type": "display_data"
    }
   ],
   "source": [
    "sns.countplot(x = \"target\", data = df_train_labels)"
   ]
  },
  {
   "cell_type": "code",
   "execution_count": 9,
   "id": "a8543148",
   "metadata": {
    "execution": {
     "iopub.execute_input": "2022-08-02T02:34:51.879098Z",
     "iopub.status.busy": "2022-08-02T02:34:51.878592Z",
     "iopub.status.idle": "2022-08-02T02:34:53.010105Z",
     "shell.execute_reply": "2022-08-02T02:34:53.008602Z"
    },
    "papermill": {
     "duration": 1.157663,
     "end_time": "2022-08-02T02:34:53.012722",
     "exception": false,
     "start_time": "2022-08-02T02:34:51.855059",
     "status": "completed"
    },
    "tags": []
   },
   "outputs": [
    {
     "data": {
      "text/plain": [
       "<AxesSubplot:xlabel='target', ylabel='count'>"
      ]
     },
     "execution_count": 9,
     "metadata": {},
     "output_type": "execute_result"
    },
    {
     "data": {
      "image/png": "[encoded data removed]",
      "text/plain": [
       "<Figure size 576x576 with 1 Axes>"
      ]
     },
     "metadata": {},
     "output_type": "display_data"
    }
   ],
   "source": [
    "min_n = df_train_data['target'].value_counts().min()\n",
    "df_train_data = df_train_data.groupby('target', as_index=False, group_keys=False).apply(lambda x: x.sample(n=min_n, random_state = SEED_GRUPO))\n",
    "sns.countplot(x = \"target\", data = df_train_data)"
   ]
  },
  {
   "cell_type": "markdown",
   "id": "d451ecbd",
   "metadata": {
    "papermill": {
     "duration": 0.022659,
     "end_time": "2022-08-02T02:34:53.058497",
     "exception": false,
     "start_time": "2022-08-02T02:34:53.035838",
     "status": "completed"
    },
    "tags": []
   },
   "source": [
    "* Realizamos un undersampling de la clase Target = 0 para igualar los Target = 1, utilizando como random_state la SEED_GRUPO."
   ]
  },
  {
   "cell_type": "markdown",
   "id": "d6904eb3",
   "metadata": {
    "papermill": {
     "duration": 0.022812,
     "end_time": "2022-08-02T02:34:53.104046",
     "exception": false,
     "start_time": "2022-08-02T02:34:53.081234",
     "status": "completed"
    },
    "tags": []
   },
   "source": [
    "## Reduccion de Dimensionalidad - Columnas:\n",
    "\n",
    "El dataset original posee 193 columnas, muchas de las cuales no tienen una gran correlación con la variable target, como se acaba de analizar. Por lo tanto, decidimos no tener en consideración aquellas columnas que no cumplan con un mínimo umbral de correlación (en módulo) con la variable target. "
   ]
  },
  {
   "cell_type": "code",
   "execution_count": 10,
   "id": "0b583e1d",
   "metadata": {
    "execution": {
     "iopub.execute_input": "2022-08-02T02:34:53.151675Z",
     "iopub.status.busy": "2022-08-02T02:34:53.151231Z",
     "iopub.status.idle": "2022-08-02T02:34:53.588778Z",
     "shell.execute_reply": "2022-08-02T02:34:53.587690Z"
    },
    "papermill": {
     "duration": 0.464562,
     "end_time": "2022-08-02T02:34:53.591690",
     "exception": false,
     "start_time": "2022-08-02T02:34:53.127128",
     "status": "completed"
    },
    "tags": []
   },
   "outputs": [
    {
     "data": {
      "text/plain": [
       "count    185.000000\n",
       "mean       0.175911\n",
       "std        0.144980\n",
       "min        0.000121\n",
       "25%        0.067410\n",
       "50%        0.132271\n",
       "75%        0.235168\n",
       "max        0.666256\n",
       "dtype: float64"
      ]
     },
     "execution_count": 10,
     "metadata": {},
     "output_type": "execute_result"
    }
   ],
   "source": [
    "correlaciones_columnas = (df_train_data.corrwith(df_train_data[\"target\"]).abs().sort_values(ascending=True)).drop('target')\n",
    "correlaciones_columnas.describe()"
   ]
  },
  {
   "cell_type": "markdown",
   "id": "f4ec0bc2",
   "metadata": {
    "papermill": {
     "duration": 0.022922,
     "end_time": "2022-08-02T02:34:53.638080",
     "exception": false,
     "start_time": "2022-08-02T02:34:53.615158",
     "status": "completed"
    },
    "tags": []
   },
   "source": [
    "A partir de la tabla anteriormente expuesta, se puede observar que el tercer cuartil de la correlación entre las columnas y target tiene un valor de 0.235168. Al usar este valor como umbral, estaríamos usando un cuarto de la cantidad de columnas que se tenían originalmente, siendo estas las que mayor correlación tienen con el target. Por lo tanto, establecemos este valor como piso."
   ]
  },
  {
   "cell_type": "code",
   "execution_count": 11,
   "id": "40912b3f",
   "metadata": {
    "execution": {
     "iopub.execute_input": "2022-08-02T02:34:53.688399Z",
     "iopub.status.busy": "2022-08-02T02:34:53.687152Z",
     "iopub.status.idle": "2022-08-02T02:34:54.036044Z",
     "shell.execute_reply": "2022-08-02T02:34:54.034950Z"
    },
    "papermill": {
     "duration": 0.376193,
     "end_time": "2022-08-02T02:34:54.038351",
     "exception": false,
     "start_time": "2022-08-02T02:34:53.662158",
     "status": "completed"
    },
    "tags": []
   },
   "outputs": [
    {
     "data": {
      "text/html": [
       "<div>\n",
       "<style scoped>\n",
       "    .dataframe tbody tr th:only-of-type {\n",
       "        vertical-align: middle;\n",
       "    }\n",
       "\n",
       "    .dataframe tbody tr th {\n",
       "        vertical-align: top;\n",
       "    }\n",
       "\n",
       "    .dataframe thead th {\n",
       "        text-align: right;\n",
       "    }\n",
       "</style>\n",
       "<table border=\"1\" class=\"dataframe\">\n",
       "  <thead>\n",
       "    <tr style=\"text-align: right;\">\n",
       "      <th></th>\n",
       "      <th>customer_ID</th>\n",
       "      <th>S_2</th>\n",
       "      <th>P_2</th>\n",
       "      <th>B_1</th>\n",
       "      <th>B_2</th>\n",
       "      <th>R_1</th>\n",
       "      <th>S_3</th>\n",
       "      <th>B_3</th>\n",
       "      <th>D_42</th>\n",
       "      <th>D_43</th>\n",
       "      <th>...</th>\n",
       "      <th>D_77</th>\n",
       "      <th>B_28</th>\n",
       "      <th>B_30</th>\n",
       "      <th>B_33</th>\n",
       "      <th>B_37</th>\n",
       "      <th>R_27</th>\n",
       "      <th>B_38</th>\n",
       "      <th>D_127</th>\n",
       "      <th>D_131</th>\n",
       "      <th>target</th>\n",
       "    </tr>\n",
       "  </thead>\n",
       "  <tbody>\n",
       "    <tr>\n",
       "      <th>247462</th>\n",
       "      <td>c9bd3b8e9a061b81c3f94b92c80977c5b4154d3695dba3...</td>\n",
       "      <td>2017-09-07</td>\n",
       "      <td>0.650563</td>\n",
       "      <td>0.334561</td>\n",
       "      <td>0.032087</td>\n",
       "      <td>0.000278</td>\n",
       "      <td>0.159321</td>\n",
       "      <td>0.270453</td>\n",
       "      <td>NaN</td>\n",
       "      <td>0.276738</td>\n",
       "      <td>...</td>\n",
       "      <td>0.186035</td>\n",
       "      <td>0.092162</td>\n",
       "      <td>1.0</td>\n",
       "      <td>0.000852</td>\n",
       "      <td>0.335233</td>\n",
       "      <td>1.009736</td>\n",
       "      <td>5.0</td>\n",
       "      <td>0.004082</td>\n",
       "      <td>0.004622</td>\n",
       "      <td>0</td>\n",
       "    </tr>\n",
       "    <tr>\n",
       "      <th>61392</th>\n",
       "      <td>41833fe733f9ecc720258fe656ffae17ef2c432169e5b4...</td>\n",
       "      <td>2018-01-26</td>\n",
       "      <td>0.845354</td>\n",
       "      <td>0.014661</td>\n",
       "      <td>1.003005</td>\n",
       "      <td>0.006111</td>\n",
       "      <td>0.059987</td>\n",
       "      <td>0.005424</td>\n",
       "      <td>NaN</td>\n",
       "      <td>NaN</td>\n",
       "      <td>...</td>\n",
       "      <td>0.776614</td>\n",
       "      <td>0.118719</td>\n",
       "      <td>0.0</td>\n",
       "      <td>1.008084</td>\n",
       "      <td>0.013787</td>\n",
       "      <td>1.002788</td>\n",
       "      <td>2.0</td>\n",
       "      <td>1.003084</td>\n",
       "      <td>0.007921</td>\n",
       "      <td>0</td>\n",
       "    </tr>\n",
       "    <tr>\n",
       "      <th>155273</th>\n",
       "      <td>55c5f56f347dbe7895e38d2a52a8643ddd632b7a32001a...</td>\n",
       "      <td>2017-06-24</td>\n",
       "      <td>0.860423</td>\n",
       "      <td>0.007062</td>\n",
       "      <td>0.818051</td>\n",
       "      <td>0.007428</td>\n",
       "      <td>0.174510</td>\n",
       "      <td>0.000335</td>\n",
       "      <td>NaN</td>\n",
       "      <td>0.009585</td>\n",
       "      <td>...</td>\n",
       "      <td>0.251304</td>\n",
       "      <td>0.013723</td>\n",
       "      <td>0.0</td>\n",
       "      <td>1.005307</td>\n",
       "      <td>0.005180</td>\n",
       "      <td>1.009801</td>\n",
       "      <td>1.0</td>\n",
       "      <td>0.002157</td>\n",
       "      <td>0.005188</td>\n",
       "      <td>0</td>\n",
       "    </tr>\n",
       "    <tr>\n",
       "      <th>176354</th>\n",
       "      <td>b142e155a5d78171cf103b35eae62e2c1714bc282de639...</td>\n",
       "      <td>2017-09-30</td>\n",
       "      <td>0.828892</td>\n",
       "      <td>0.012427</td>\n",
       "      <td>1.008093</td>\n",
       "      <td>0.018129</td>\n",
       "      <td>0.166912</td>\n",
       "      <td>0.010756</td>\n",
       "      <td>NaN</td>\n",
       "      <td>0.019320</td>\n",
       "      <td>...</td>\n",
       "      <td>NaN</td>\n",
       "      <td>0.058108</td>\n",
       "      <td>0.0</td>\n",
       "      <td>1.003585</td>\n",
       "      <td>0.015826</td>\n",
       "      <td>1.007780</td>\n",
       "      <td>2.0</td>\n",
       "      <td>0.009497</td>\n",
       "      <td>0.005852</td>\n",
       "      <td>0</td>\n",
       "    </tr>\n",
       "    <tr>\n",
       "      <th>91294</th>\n",
       "      <td>9b1b2dfe5fce6e0237297154f13b7c4f97160666afd614...</td>\n",
       "      <td>2018-01-07</td>\n",
       "      <td>0.848435</td>\n",
       "      <td>0.012845</td>\n",
       "      <td>1.001285</td>\n",
       "      <td>0.004187</td>\n",
       "      <td>0.095897</td>\n",
       "      <td>0.004087</td>\n",
       "      <td>NaN</td>\n",
       "      <td>0.037725</td>\n",
       "      <td>...</td>\n",
       "      <td>0.029500</td>\n",
       "      <td>0.064407</td>\n",
       "      <td>0.0</td>\n",
       "      <td>1.007804</td>\n",
       "      <td>0.019741</td>\n",
       "      <td>1.008842</td>\n",
       "      <td>3.0</td>\n",
       "      <td>1.008596</td>\n",
       "      <td>1.013176</td>\n",
       "      <td>0</td>\n",
       "    </tr>\n",
       "    <tr>\n",
       "      <th>...</th>\n",
       "      <td>...</td>\n",
       "      <td>...</td>\n",
       "      <td>...</td>\n",
       "      <td>...</td>\n",
       "      <td>...</td>\n",
       "      <td>...</td>\n",
       "      <td>...</td>\n",
       "      <td>...</td>\n",
       "      <td>...</td>\n",
       "      <td>...</td>\n",
       "      <td>...</td>\n",
       "      <td>...</td>\n",
       "      <td>...</td>\n",
       "      <td>...</td>\n",
       "      <td>...</td>\n",
       "      <td>...</td>\n",
       "      <td>...</td>\n",
       "      <td>...</td>\n",
       "      <td>...</td>\n",
       "      <td>...</td>\n",
       "      <td>...</td>\n",
       "    </tr>\n",
       "    <tr>\n",
       "      <th>39235</th>\n",
       "      <td>b66b76de877ced2755cb0ff30507c3f64c10cecee52730...</td>\n",
       "      <td>2017-08-17</td>\n",
       "      <td>0.251325</td>\n",
       "      <td>0.061579</td>\n",
       "      <td>1.009665</td>\n",
       "      <td>0.002755</td>\n",
       "      <td>0.133108</td>\n",
       "      <td>0.008876</td>\n",
       "      <td>NaN</td>\n",
       "      <td>1.096011</td>\n",
       "      <td>...</td>\n",
       "      <td>NaN</td>\n",
       "      <td>0.197477</td>\n",
       "      <td>0.0</td>\n",
       "      <td>1.006780</td>\n",
       "      <td>0.059651</td>\n",
       "      <td>0.012207</td>\n",
       "      <td>3.0</td>\n",
       "      <td>0.008886</td>\n",
       "      <td>0.007369</td>\n",
       "      <td>1</td>\n",
       "    </tr>\n",
       "    <tr>\n",
       "      <th>53542</th>\n",
       "      <td>6510eca17b2ef08566e952db9dcf922ba57d6572d65f9c...</td>\n",
       "      <td>2018-01-03</td>\n",
       "      <td>0.410099</td>\n",
       "      <td>0.109138</td>\n",
       "      <td>0.080330</td>\n",
       "      <td>0.502055</td>\n",
       "      <td>0.586159</td>\n",
       "      <td>0.140071</td>\n",
       "      <td>NaN</td>\n",
       "      <td>0.063398</td>\n",
       "      <td>...</td>\n",
       "      <td>NaN</td>\n",
       "      <td>0.167969</td>\n",
       "      <td>0.0</td>\n",
       "      <td>0.005615</td>\n",
       "      <td>0.114095</td>\n",
       "      <td>1.000029</td>\n",
       "      <td>1.0</td>\n",
       "      <td>0.003410</td>\n",
       "      <td>0.002807</td>\n",
       "      <td>1</td>\n",
       "    </tr>\n",
       "    <tr>\n",
       "      <th>199141</th>\n",
       "      <td>1e775a757204cf13600f1c56432a94bb88e3c1600d316d...</td>\n",
       "      <td>2017-09-23</td>\n",
       "      <td>0.420529</td>\n",
       "      <td>0.054901</td>\n",
       "      <td>0.073554</td>\n",
       "      <td>0.254055</td>\n",
       "      <td>0.209672</td>\n",
       "      <td>0.110149</td>\n",
       "      <td>0.167534</td>\n",
       "      <td>0.620982</td>\n",
       "      <td>...</td>\n",
       "      <td>NaN</td>\n",
       "      <td>0.016129</td>\n",
       "      <td>0.0</td>\n",
       "      <td>0.003380</td>\n",
       "      <td>0.048994</td>\n",
       "      <td>0.008498</td>\n",
       "      <td>1.0</td>\n",
       "      <td>0.000806</td>\n",
       "      <td>0.008663</td>\n",
       "      <td>1</td>\n",
       "    </tr>\n",
       "    <tr>\n",
       "      <th>2317</th>\n",
       "      <td>5db0439665481ea9ce288f4d363e70076924079850a52e...</td>\n",
       "      <td>2017-06-26</td>\n",
       "      <td>0.467831</td>\n",
       "      <td>0.127507</td>\n",
       "      <td>0.589934</td>\n",
       "      <td>0.003379</td>\n",
       "      <td>0.098933</td>\n",
       "      <td>0.089988</td>\n",
       "      <td>NaN</td>\n",
       "      <td>NaN</td>\n",
       "      <td>...</td>\n",
       "      <td>NaN</td>\n",
       "      <td>0.739799</td>\n",
       "      <td>0.0</td>\n",
       "      <td>0.004201</td>\n",
       "      <td>0.124892</td>\n",
       "      <td>1.002139</td>\n",
       "      <td>3.0</td>\n",
       "      <td>0.000084</td>\n",
       "      <td>0.004239</td>\n",
       "      <td>1</td>\n",
       "    </tr>\n",
       "    <tr>\n",
       "      <th>118395</th>\n",
       "      <td>3cf955e71f35326b93a7ad67b9ce7706a4e4a47fc38ab8...</td>\n",
       "      <td>2018-03-16</td>\n",
       "      <td>0.331968</td>\n",
       "      <td>0.656181</td>\n",
       "      <td>0.004771</td>\n",
       "      <td>0.004620</td>\n",
       "      <td>0.543114</td>\n",
       "      <td>0.369321</td>\n",
       "      <td>0.191946</td>\n",
       "      <td>0.354725</td>\n",
       "      <td>...</td>\n",
       "      <td>NaN</td>\n",
       "      <td>0.259348</td>\n",
       "      <td>1.0</td>\n",
       "      <td>0.000320</td>\n",
       "      <td>0.661698</td>\n",
       "      <td>0.018637</td>\n",
       "      <td>4.0</td>\n",
       "      <td>0.007444</td>\n",
       "      <td>0.008854</td>\n",
       "      <td>1</td>\n",
       "    </tr>\n",
       "  </tbody>\n",
       "</table>\n",
       "<p>137478 rows × 52 columns</p>\n",
       "</div>"
      ],
      "text/plain": [
       "                                              customer_ID         S_2  \\\n",
       "247462  c9bd3b8e9a061b81c3f94b92c80977c5b4154d3695dba3...  2017-09-07   \n",
       "61392   41833fe733f9ecc720258fe656ffae17ef2c432169e5b4...  2018-01-26   \n",
       "155273  55c5f56f347dbe7895e38d2a52a8643ddd632b7a32001a...  2017-06-24   \n",
       "176354  b142e155a5d78171cf103b35eae62e2c1714bc282de639...  2017-09-30   \n",
       "91294   9b1b2dfe5fce6e0237297154f13b7c4f97160666afd614...  2018-01-07   \n",
       "...                                                   ...         ...   \n",
       "39235   b66b76de877ced2755cb0ff30507c3f64c10cecee52730...  2017-08-17   \n",
       "53542   6510eca17b2ef08566e952db9dcf922ba57d6572d65f9c...  2018-01-03   \n",
       "199141  1e775a757204cf13600f1c56432a94bb88e3c1600d316d...  2017-09-23   \n",
       "2317    5db0439665481ea9ce288f4d363e70076924079850a52e...  2017-06-26   \n",
       "118395  3cf955e71f35326b93a7ad67b9ce7706a4e4a47fc38ab8...  2018-03-16   \n",
       "\n",
       "             P_2       B_1       B_2       R_1       S_3       B_3      D_42  \\\n",
       "247462  0.650563  0.334561  0.032087  0.000278  0.159321  0.270453       NaN   \n",
       "61392   0.845354  0.014661  1.003005  0.006111  0.059987  0.005424       NaN   \n",
       "155273  0.860423  0.007062  0.818051  0.007428  0.174510  0.000335       NaN   \n",
       "176354  0.828892  0.012427  1.008093  0.018129  0.166912  0.010756       NaN   \n",
       "91294   0.848435  0.012845  1.001285  0.004187  0.095897  0.004087       NaN   \n",
       "...          ...       ...       ...       ...       ...       ...       ...   \n",
       "39235   0.251325  0.061579  1.009665  0.002755  0.133108  0.008876       NaN   \n",
       "53542   0.410099  0.109138  0.080330  0.502055  0.586159  0.140071       NaN   \n",
       "199141  0.420529  0.054901  0.073554  0.254055  0.209672  0.110149  0.167534   \n",
       "2317    0.467831  0.127507  0.589934  0.003379  0.098933  0.089988       NaN   \n",
       "118395  0.331968  0.656181  0.004771  0.004620  0.543114  0.369321  0.191946   \n",
       "\n",
       "            D_43  ...      D_77      B_28  B_30      B_33      B_37      R_27  \\\n",
       "247462  0.276738  ...  0.186035  0.092162   1.0  0.000852  0.335233  1.009736   \n",
       "61392        NaN  ...  0.776614  0.118719   0.0  1.008084  0.013787  1.002788   \n",
       "155273  0.009585  ...  0.251304  0.013723   0.0  1.005307  0.005180  1.009801   \n",
       "176354  0.019320  ...       NaN  0.058108   0.0  1.003585  0.015826  1.007780   \n",
       "91294   0.037725  ...  0.029500  0.064407   0.0  1.007804  0.019741  1.008842   \n",
       "...          ...  ...       ...       ...   ...       ...       ...       ...   \n",
       "39235   1.096011  ...       NaN  0.197477   0.0  1.006780  0.059651  0.012207   \n",
       "53542   0.063398  ...       NaN  0.167969   0.0  0.005615  0.114095  1.000029   \n",
       "199141  0.620982  ...       NaN  0.016129   0.0  0.003380  0.048994  0.008498   \n",
       "2317         NaN  ...       NaN  0.739799   0.0  0.004201  0.124892  1.002139   \n",
       "118395  0.354725  ...       NaN  0.259348   1.0  0.000320  0.661698  0.018637   \n",
       "\n",
       "        B_38     D_127     D_131  target  \n",
       "247462   5.0  0.004082  0.004622       0  \n",
       "61392    2.0  1.003084  0.007921       0  \n",
       "155273   1.0  0.002157  0.005188       0  \n",
       "176354   2.0  0.009497  0.005852       0  \n",
       "91294    3.0  1.008596  1.013176       0  \n",
       "...      ...       ...       ...     ...  \n",
       "39235    3.0  0.008886  0.007369       1  \n",
       "53542    1.0  0.003410  0.002807       1  \n",
       "199141   1.0  0.000806  0.008663       1  \n",
       "2317     3.0  0.000084  0.004239       1  \n",
       "118395   4.0  0.007444  0.008854       1  \n",
       "\n",
       "[137478 rows x 52 columns]"
      ]
     },
     "execution_count": 11,
     "metadata": {},
     "output_type": "execute_result"
    }
   ],
   "source": [
    "df_filtrado = df_train_data.copy()\n",
    "correlaciones_columnas.dropna()\n",
    "correlaciones_columnas_dict = correlaciones_columnas.to_dict()\n",
    "correlaciones_columnas_dict.pop('D_87', None)\n",
    "correlaciones_columnas_dict\n",
    "umbral = 0.235168\n",
    "columns_to_drop = ['D_87'] # Se elimina D_87 por ser NaN\n",
    "for col, corr in correlaciones_columnas_dict.items():\n",
    "    if corr < umbral:\n",
    "        columns_to_drop.append(col)\n",
    "df_filtrado.drop(columns_to_drop, axis=1, inplace=True)\n",
    "df_filtrado"
   ]
  },
  {
   "cell_type": "markdown",
   "id": "3c1455d2",
   "metadata": {
    "papermill": {
     "duration": 0.026176,
     "end_time": "2022-08-02T02:34:54.087217",
     "exception": false,
     "start_time": "2022-08-02T02:34:54.061041",
     "status": "completed"
    },
    "tags": []
   },
   "source": [
    "Antes de pasar a la reduccion de dimensionalidad para las filas, tenemos que realizar unas transformaciones en el set para las variables categoricas **D_63** y **D_64**"
   ]
  },
  {
   "cell_type": "markdown",
   "id": "6a10cf0e",
   "metadata": {
    "papermill": {
     "duration": 0.023132,
     "end_time": "2022-08-02T02:34:54.133915",
     "exception": false,
     "start_time": "2022-08-02T02:34:54.110783",
     "status": "completed"
    },
    "tags": []
   },
   "source": [
    "## Generacion de nuevas columnas / Modificacion de columnas:"
   ]
  },
  {
   "cell_type": "markdown",
   "id": "6d9b9e3f",
   "metadata": {
    "papermill": {
     "duration": 0.023427,
     "end_time": "2022-08-02T02:34:54.181524",
     "exception": false,
     "start_time": "2022-08-02T02:34:54.158097",
     "status": "completed"
    },
    "tags": []
   },
   "source": [
    "Puesto que las variables 'D_63' y 'D_64' son categoricas y de tipo String, se utiliza la función get_dummies para reemplazarlos y así poder calcular el promedio de sus apariciones y no estas información. Estas dos variables, a partir de lo expuesto anteriormente, se encuentran altamente correlacionados con el target, por lo que, si se descartaran, se perdería mucha información."
   ]
  },
  {
   "cell_type": "code",
   "execution_count": 12,
   "id": "5b4b8628",
   "metadata": {
    "execution": {
     "iopub.execute_input": "2022-08-02T02:34:54.231752Z",
     "iopub.status.busy": "2022-08-02T02:34:54.230294Z",
     "iopub.status.idle": "2022-08-02T02:34:54.385677Z",
     "shell.execute_reply": "2022-08-02T02:34:54.382564Z"
    },
    "papermill": {
     "duration": 0.184913,
     "end_time": "2022-08-02T02:34:54.389979",
     "exception": false,
     "start_time": "2022-08-02T02:34:54.205066",
     "status": "completed"
    },
    "tags": []
   },
   "outputs": [],
   "source": [
    "dummies1 = pd.get_dummies(df_filtrado.D_64)\n",
    "dummies2 = pd.get_dummies(df_filtrado.D_63)\n",
    "df_filtrado = pd.concat([df_filtrado, dummies1, dummies2], axis='columns')\n",
    "df_filtrado.drop(['D_63', 'D_64'], axis='columns', inplace = True)"
   ]
  },
  {
   "cell_type": "code",
   "execution_count": 13,
   "id": "0e9bd897",
   "metadata": {
    "execution": {
     "iopub.execute_input": "2022-08-02T02:34:54.449238Z",
     "iopub.status.busy": "2022-08-02T02:34:54.448510Z",
     "iopub.status.idle": "2022-08-02T02:34:54.542508Z",
     "shell.execute_reply": "2022-08-02T02:34:54.541309Z"
    },
    "papermill": {
     "duration": 0.126062,
     "end_time": "2022-08-02T02:34:54.545488",
     "exception": false,
     "start_time": "2022-08-02T02:34:54.419426",
     "status": "completed"
    },
    "tags": []
   },
   "outputs": [
    {
     "data": {
      "text/html": [
       "<div>\n",
       "<style scoped>\n",
       "    .dataframe tbody tr th:only-of-type {\n",
       "        vertical-align: middle;\n",
       "    }\n",
       "\n",
       "    .dataframe tbody tr th {\n",
       "        vertical-align: top;\n",
       "    }\n",
       "\n",
       "    .dataframe thead th {\n",
       "        text-align: right;\n",
       "    }\n",
       "</style>\n",
       "<table border=\"1\" class=\"dataframe\">\n",
       "  <thead>\n",
       "    <tr style=\"text-align: right;\">\n",
       "      <th></th>\n",
       "      <th>customer_ID</th>\n",
       "      <th>S_2</th>\n",
       "      <th>P_2</th>\n",
       "      <th>B_1</th>\n",
       "      <th>B_2</th>\n",
       "      <th>R_1</th>\n",
       "      <th>S_3</th>\n",
       "      <th>B_3</th>\n",
       "      <th>D_42</th>\n",
       "      <th>D_43</th>\n",
       "      <th>...</th>\n",
       "      <th>-1</th>\n",
       "      <th>O</th>\n",
       "      <th>R</th>\n",
       "      <th>U</th>\n",
       "      <th>CL</th>\n",
       "      <th>CO</th>\n",
       "      <th>CR</th>\n",
       "      <th>XL</th>\n",
       "      <th>XM</th>\n",
       "      <th>XZ</th>\n",
       "    </tr>\n",
       "  </thead>\n",
       "  <tbody>\n",
       "    <tr>\n",
       "      <th>247462</th>\n",
       "      <td>c9bd3b8e9a061b81c3f94b92c80977c5b4154d3695dba3...</td>\n",
       "      <td>2017-09-07</td>\n",
       "      <td>0.650563</td>\n",
       "      <td>0.334561</td>\n",
       "      <td>0.032087</td>\n",
       "      <td>0.000278</td>\n",
       "      <td>0.159321</td>\n",
       "      <td>0.270453</td>\n",
       "      <td>NaN</td>\n",
       "      <td>0.276738</td>\n",
       "      <td>...</td>\n",
       "      <td>0</td>\n",
       "      <td>0</td>\n",
       "      <td>0</td>\n",
       "      <td>1</td>\n",
       "      <td>0</td>\n",
       "      <td>1</td>\n",
       "      <td>0</td>\n",
       "      <td>0</td>\n",
       "      <td>0</td>\n",
       "      <td>0</td>\n",
       "    </tr>\n",
       "    <tr>\n",
       "      <th>61392</th>\n",
       "      <td>41833fe733f9ecc720258fe656ffae17ef2c432169e5b4...</td>\n",
       "      <td>2018-01-26</td>\n",
       "      <td>0.845354</td>\n",
       "      <td>0.014661</td>\n",
       "      <td>1.003005</td>\n",
       "      <td>0.006111</td>\n",
       "      <td>0.059987</td>\n",
       "      <td>0.005424</td>\n",
       "      <td>NaN</td>\n",
       "      <td>NaN</td>\n",
       "      <td>...</td>\n",
       "      <td>0</td>\n",
       "      <td>1</td>\n",
       "      <td>0</td>\n",
       "      <td>0</td>\n",
       "      <td>1</td>\n",
       "      <td>0</td>\n",
       "      <td>0</td>\n",
       "      <td>0</td>\n",
       "      <td>0</td>\n",
       "      <td>0</td>\n",
       "    </tr>\n",
       "    <tr>\n",
       "      <th>155273</th>\n",
       "      <td>55c5f56f347dbe7895e38d2a52a8643ddd632b7a32001a...</td>\n",
       "      <td>2017-06-24</td>\n",
       "      <td>0.860423</td>\n",
       "      <td>0.007062</td>\n",
       "      <td>0.818051</td>\n",
       "      <td>0.007428</td>\n",
       "      <td>0.174510</td>\n",
       "      <td>0.000335</td>\n",
       "      <td>NaN</td>\n",
       "      <td>0.009585</td>\n",
       "      <td>...</td>\n",
       "      <td>0</td>\n",
       "      <td>0</td>\n",
       "      <td>0</td>\n",
       "      <td>1</td>\n",
       "      <td>0</td>\n",
       "      <td>1</td>\n",
       "      <td>0</td>\n",
       "      <td>0</td>\n",
       "      <td>0</td>\n",
       "      <td>0</td>\n",
       "    </tr>\n",
       "    <tr>\n",
       "      <th>176354</th>\n",
       "      <td>b142e155a5d78171cf103b35eae62e2c1714bc282de639...</td>\n",
       "      <td>2017-09-30</td>\n",
       "      <td>0.828892</td>\n",
       "      <td>0.012427</td>\n",
       "      <td>1.008093</td>\n",
       "      <td>0.018129</td>\n",
       "      <td>0.166912</td>\n",
       "      <td>0.010756</td>\n",
       "      <td>NaN</td>\n",
       "      <td>0.019320</td>\n",
       "      <td>...</td>\n",
       "      <td>0</td>\n",
       "      <td>1</td>\n",
       "      <td>0</td>\n",
       "      <td>0</td>\n",
       "      <td>1</td>\n",
       "      <td>0</td>\n",
       "      <td>0</td>\n",
       "      <td>0</td>\n",
       "      <td>0</td>\n",
       "      <td>0</td>\n",
       "    </tr>\n",
       "    <tr>\n",
       "      <th>91294</th>\n",
       "      <td>9b1b2dfe5fce6e0237297154f13b7c4f97160666afd614...</td>\n",
       "      <td>2018-01-07</td>\n",
       "      <td>0.848435</td>\n",
       "      <td>0.012845</td>\n",
       "      <td>1.001285</td>\n",
       "      <td>0.004187</td>\n",
       "      <td>0.095897</td>\n",
       "      <td>0.004087</td>\n",
       "      <td>NaN</td>\n",
       "      <td>0.037725</td>\n",
       "      <td>...</td>\n",
       "      <td>0</td>\n",
       "      <td>0</td>\n",
       "      <td>0</td>\n",
       "      <td>1</td>\n",
       "      <td>0</td>\n",
       "      <td>0</td>\n",
       "      <td>1</td>\n",
       "      <td>0</td>\n",
       "      <td>0</td>\n",
       "      <td>0</td>\n",
       "    </tr>\n",
       "    <tr>\n",
       "      <th>...</th>\n",
       "      <td>...</td>\n",
       "      <td>...</td>\n",
       "      <td>...</td>\n",
       "      <td>...</td>\n",
       "      <td>...</td>\n",
       "      <td>...</td>\n",
       "      <td>...</td>\n",
       "      <td>...</td>\n",
       "      <td>...</td>\n",
       "      <td>...</td>\n",
       "      <td>...</td>\n",
       "      <td>...</td>\n",
       "      <td>...</td>\n",
       "      <td>...</td>\n",
       "      <td>...</td>\n",
       "      <td>...</td>\n",
       "      <td>...</td>\n",
       "      <td>...</td>\n",
       "      <td>...</td>\n",
       "      <td>...</td>\n",
       "      <td>...</td>\n",
       "    </tr>\n",
       "    <tr>\n",
       "      <th>39235</th>\n",
       "      <td>b66b76de877ced2755cb0ff30507c3f64c10cecee52730...</td>\n",
       "      <td>2017-08-17</td>\n",
       "      <td>0.251325</td>\n",
       "      <td>0.061579</td>\n",
       "      <td>1.009665</td>\n",
       "      <td>0.002755</td>\n",
       "      <td>0.133108</td>\n",
       "      <td>0.008876</td>\n",
       "      <td>NaN</td>\n",
       "      <td>1.096011</td>\n",
       "      <td>...</td>\n",
       "      <td>0</td>\n",
       "      <td>0</td>\n",
       "      <td>0</td>\n",
       "      <td>1</td>\n",
       "      <td>1</td>\n",
       "      <td>0</td>\n",
       "      <td>0</td>\n",
       "      <td>0</td>\n",
       "      <td>0</td>\n",
       "      <td>0</td>\n",
       "    </tr>\n",
       "    <tr>\n",
       "      <th>53542</th>\n",
       "      <td>6510eca17b2ef08566e952db9dcf922ba57d6572d65f9c...</td>\n",
       "      <td>2018-01-03</td>\n",
       "      <td>0.410099</td>\n",
       "      <td>0.109138</td>\n",
       "      <td>0.080330</td>\n",
       "      <td>0.502055</td>\n",
       "      <td>0.586159</td>\n",
       "      <td>0.140071</td>\n",
       "      <td>NaN</td>\n",
       "      <td>0.063398</td>\n",
       "      <td>...</td>\n",
       "      <td>0</td>\n",
       "      <td>1</td>\n",
       "      <td>0</td>\n",
       "      <td>0</td>\n",
       "      <td>0</td>\n",
       "      <td>1</td>\n",
       "      <td>0</td>\n",
       "      <td>0</td>\n",
       "      <td>0</td>\n",
       "      <td>0</td>\n",
       "    </tr>\n",
       "    <tr>\n",
       "      <th>199141</th>\n",
       "      <td>1e775a757204cf13600f1c56432a94bb88e3c1600d316d...</td>\n",
       "      <td>2017-09-23</td>\n",
       "      <td>0.420529</td>\n",
       "      <td>0.054901</td>\n",
       "      <td>0.073554</td>\n",
       "      <td>0.254055</td>\n",
       "      <td>0.209672</td>\n",
       "      <td>0.110149</td>\n",
       "      <td>0.167534</td>\n",
       "      <td>0.620982</td>\n",
       "      <td>...</td>\n",
       "      <td>0</td>\n",
       "      <td>1</td>\n",
       "      <td>0</td>\n",
       "      <td>0</td>\n",
       "      <td>0</td>\n",
       "      <td>1</td>\n",
       "      <td>0</td>\n",
       "      <td>0</td>\n",
       "      <td>0</td>\n",
       "      <td>0</td>\n",
       "    </tr>\n",
       "    <tr>\n",
       "      <th>2317</th>\n",
       "      <td>5db0439665481ea9ce288f4d363e70076924079850a52e...</td>\n",
       "      <td>2017-06-26</td>\n",
       "      <td>0.467831</td>\n",
       "      <td>0.127507</td>\n",
       "      <td>0.589934</td>\n",
       "      <td>0.003379</td>\n",
       "      <td>0.098933</td>\n",
       "      <td>0.089988</td>\n",
       "      <td>NaN</td>\n",
       "      <td>NaN</td>\n",
       "      <td>...</td>\n",
       "      <td>0</td>\n",
       "      <td>0</td>\n",
       "      <td>1</td>\n",
       "      <td>0</td>\n",
       "      <td>1</td>\n",
       "      <td>0</td>\n",
       "      <td>0</td>\n",
       "      <td>0</td>\n",
       "      <td>0</td>\n",
       "      <td>0</td>\n",
       "    </tr>\n",
       "    <tr>\n",
       "      <th>118395</th>\n",
       "      <td>3cf955e71f35326b93a7ad67b9ce7706a4e4a47fc38ab8...</td>\n",
       "      <td>2018-03-16</td>\n",
       "      <td>0.331968</td>\n",
       "      <td>0.656181</td>\n",
       "      <td>0.004771</td>\n",
       "      <td>0.004620</td>\n",
       "      <td>0.543114</td>\n",
       "      <td>0.369321</td>\n",
       "      <td>0.191946</td>\n",
       "      <td>0.354725</td>\n",
       "      <td>...</td>\n",
       "      <td>0</td>\n",
       "      <td>1</td>\n",
       "      <td>0</td>\n",
       "      <td>0</td>\n",
       "      <td>0</td>\n",
       "      <td>1</td>\n",
       "      <td>0</td>\n",
       "      <td>0</td>\n",
       "      <td>0</td>\n",
       "      <td>0</td>\n",
       "    </tr>\n",
       "  </tbody>\n",
       "</table>\n",
       "<p>137478 rows × 60 columns</p>\n",
       "</div>"
      ],
      "text/plain": [
       "                                              customer_ID         S_2  \\\n",
       "247462  c9bd3b8e9a061b81c3f94b92c80977c5b4154d3695dba3...  2017-09-07   \n",
       "61392   41833fe733f9ecc720258fe656ffae17ef2c432169e5b4...  2018-01-26   \n",
       "155273  55c5f56f347dbe7895e38d2a52a8643ddd632b7a32001a...  2017-06-24   \n",
       "176354  b142e155a5d78171cf103b35eae62e2c1714bc282de639...  2017-09-30   \n",
       "91294   9b1b2dfe5fce6e0237297154f13b7c4f97160666afd614...  2018-01-07   \n",
       "...                                                   ...         ...   \n",
       "39235   b66b76de877ced2755cb0ff30507c3f64c10cecee52730...  2017-08-17   \n",
       "53542   6510eca17b2ef08566e952db9dcf922ba57d6572d65f9c...  2018-01-03   \n",
       "199141  1e775a757204cf13600f1c56432a94bb88e3c1600d316d...  2017-09-23   \n",
       "2317    5db0439665481ea9ce288f4d363e70076924079850a52e...  2017-06-26   \n",
       "118395  3cf955e71f35326b93a7ad67b9ce7706a4e4a47fc38ab8...  2018-03-16   \n",
       "\n",
       "             P_2       B_1       B_2       R_1       S_3       B_3      D_42  \\\n",
       "247462  0.650563  0.334561  0.032087  0.000278  0.159321  0.270453       NaN   \n",
       "61392   0.845354  0.014661  1.003005  0.006111  0.059987  0.005424       NaN   \n",
       "155273  0.860423  0.007062  0.818051  0.007428  0.174510  0.000335       NaN   \n",
       "176354  0.828892  0.012427  1.008093  0.018129  0.166912  0.010756       NaN   \n",
       "91294   0.848435  0.012845  1.001285  0.004187  0.095897  0.004087       NaN   \n",
       "...          ...       ...       ...       ...       ...       ...       ...   \n",
       "39235   0.251325  0.061579  1.009665  0.002755  0.133108  0.008876       NaN   \n",
       "53542   0.410099  0.109138  0.080330  0.502055  0.586159  0.140071       NaN   \n",
       "199141  0.420529  0.054901  0.073554  0.254055  0.209672  0.110149  0.167534   \n",
       "2317    0.467831  0.127507  0.589934  0.003379  0.098933  0.089988       NaN   \n",
       "118395  0.331968  0.656181  0.004771  0.004620  0.543114  0.369321  0.191946   \n",
       "\n",
       "            D_43  ...  -1  O  R  U  CL  CO  CR  XL  XM  XZ  \n",
       "247462  0.276738  ...   0  0  0  1   0   1   0   0   0   0  \n",
       "61392        NaN  ...   0  1  0  0   1   0   0   0   0   0  \n",
       "155273  0.009585  ...   0  0  0  1   0   1   0   0   0   0  \n",
       "176354  0.019320  ...   0  1  0  0   1   0   0   0   0   0  \n",
       "91294   0.037725  ...   0  0  0  1   0   0   1   0   0   0  \n",
       "...          ...  ...  .. .. .. ..  ..  ..  ..  ..  ..  ..  \n",
       "39235   1.096011  ...   0  0  0  1   1   0   0   0   0   0  \n",
       "53542   0.063398  ...   0  1  0  0   0   1   0   0   0   0  \n",
       "199141  0.620982  ...   0  1  0  0   0   1   0   0   0   0  \n",
       "2317         NaN  ...   0  0  1  0   1   0   0   0   0   0  \n",
       "118395  0.354725  ...   0  1  0  0   0   1   0   0   0   0  \n",
       "\n",
       "[137478 rows x 60 columns]"
      ]
     },
     "execution_count": 13,
     "metadata": {},
     "output_type": "execute_result"
    }
   ],
   "source": [
    "df_filtrado"
   ]
  },
  {
   "cell_type": "markdown",
   "id": "b5e0d443",
   "metadata": {
    "papermill": {
     "duration": 0.028055,
     "end_time": "2022-08-02T02:34:54.601652",
     "exception": false,
     "start_time": "2022-08-02T02:34:54.573597",
     "status": "completed"
    },
    "tags": []
   },
   "source": [
    "## Reduccion de Dimensionalidad - Filas:"
   ]
  },
  {
   "cell_type": "code",
   "execution_count": 14,
   "id": "701c4c54",
   "metadata": {
    "execution": {
     "iopub.execute_input": "2022-08-02T02:34:54.658231Z",
     "iopub.status.busy": "2022-08-02T02:34:54.657200Z",
     "iopub.status.idle": "2022-08-02T02:34:55.028390Z",
     "shell.execute_reply": "2022-08-02T02:34:55.026995Z"
    },
    "papermill": {
     "duration": 0.402628,
     "end_time": "2022-08-02T02:34:55.031408",
     "exception": false,
     "start_time": "2022-08-02T02:34:54.628780",
     "status": "completed"
    },
    "tags": []
   },
   "outputs": [
    {
     "data": {
      "text/plain": [
       "count    114877.000000\n",
       "mean          1.196741\n",
       "std           0.465873\n",
       "min           1.000000\n",
       "25%           1.000000\n",
       "50%           1.000000\n",
       "75%           1.000000\n",
       "max           5.000000\n",
       "dtype: float64"
      ]
     },
     "execution_count": 14,
     "metadata": {},
     "output_type": "execute_result"
    }
   ],
   "source": [
    "datos = df_filtrado.pivot_table(columns=['customer_ID'], aggfunc='size')\n",
    "datos.describe()"
   ]
  },
  {
   "cell_type": "markdown",
   "id": "ee31edb1",
   "metadata": {
    "papermill": {
     "duration": 0.025912,
     "end_time": "2022-08-02T02:34:55.083983",
     "exception": false,
     "start_time": "2022-08-02T02:34:55.058071",
     "status": "completed"
    },
    "tags": []
   },
   "source": [
    "El hecho de que existan diferentes entradas para ciertos ID significa que el banco posee un historial de registros de ellos.\n",
    "\n",
    "Ante esto, podemos optar por distintos caminos: podríamos tomar el registro más reciente o el más antiguo, o bien hacer un promedio entre ambas y desestimar el resto; el que tenga el valor máximo o mínimo entre las variables más o menos correlacionadas con el target; o bien se podrían promediar.\n",
    "\n",
    "Al tener diversas variables de las cuales solo se conocen de qué tipo son -morosidad, gastos, pago, balance, riesgo- pero no conocer en específico qué es cada una de las columnas, elegir valores basado en una sola de ellas o elegir un solo registro sería un desaprovechamiento de los datos, ya que los demás datos desestimados no se terminan teniendo en cuenta. Por lo tanto, para aprovechar al máximo esta información extra de estos clientes, hemos optado por calcular un promedio de cada variable de todos los registros repetidos, para obtener un único registro con todas las variables balanceadas.\n",
    "\n",
    "* A partir de la tabla anterior, se observa que el valor máximo de repeticiones es 5."
   ]
  },
  {
   "cell_type": "code",
   "execution_count": 15,
   "id": "4ded429a",
   "metadata": {
    "execution": {
     "iopub.execute_input": "2022-08-02T02:34:55.139659Z",
     "iopub.status.busy": "2022-08-02T02:34:55.138813Z",
     "iopub.status.idle": "2022-08-02T02:34:55.338430Z",
     "shell.execute_reply": "2022-08-02T02:34:55.336992Z"
    },
    "papermill": {
     "duration": 0.228776,
     "end_time": "2022-08-02T02:34:55.341051",
     "exception": false,
     "start_time": "2022-08-02T02:34:55.112275",
     "status": "completed"
    },
    "tags": []
   },
   "outputs": [
    {
     "data": {
      "text/plain": [
       "{1: 95308, 2: 16871, 3: 2387, 4: 288, 5: 23}"
      ]
     },
     "execution_count": 15,
     "metadata": {},
     "output_type": "execute_result"
    }
   ],
   "source": [
    "datos_dict = datos.to_dict()\n",
    "values_dict = {1: 0, 2: 0, 3: 0, 4: 0, 5: 0}\n",
    "for value in datos_dict.values():\n",
    "    values_dict[value] += 1\n",
    "values_dict"
   ]
  },
  {
   "cell_type": "code",
   "execution_count": 16,
   "id": "cab03dd4",
   "metadata": {
    "execution": {
     "iopub.execute_input": "2022-08-02T02:34:55.392090Z",
     "iopub.status.busy": "2022-08-02T02:34:55.391266Z",
     "iopub.status.idle": "2022-08-02T02:34:55.749270Z",
     "shell.execute_reply": "2022-08-02T02:34:55.748022Z"
    },
    "papermill": {
     "duration": 0.387679,
     "end_time": "2022-08-02T02:34:55.753033",
     "exception": false,
     "start_time": "2022-08-02T02:34:55.365354",
     "status": "completed"
    },
    "tags": []
   },
   "outputs": [
    {
     "data": {
      "text/plain": [
       "[Text(0, 0, '95308'),\n",
       " Text(0, 0, '16871'),\n",
       " Text(0, 0, '2387'),\n",
       " Text(0, 0, '288'),\n",
       " Text(0, 0, '23')]"
      ]
     },
     "execution_count": 16,
     "metadata": {},
     "output_type": "execute_result"
    },
    {
     "data": {
      "image/png": "[encoded data removed]",
      "text/plain": [
       "<Figure size 720x360 with 1 Axes>"
      ]
     },
     "metadata": {},
     "output_type": "display_data"
    }
   ],
   "source": [
    "plt.rcParams['figure.figsize'] = (10,5)\n",
    "freq = sns.countplot(x=datos)\n",
    "freq.set_xlabel(\"Frecuencia\", fontsize=20)\n",
    "freq.set_ylabel(\"Cantidad de registros\", fontsize=20)\n",
    "abs_values = values_dict.values()\n",
    "freq.bar_label(container=freq.containers[0], labels=abs_values)"
   ]
  },
  {
   "cell_type": "markdown",
   "id": "63ce2da9",
   "metadata": {
    "papermill": {
     "duration": 0.031678,
     "end_time": "2022-08-02T02:34:55.820518",
     "exception": false,
     "start_time": "2022-08-02T02:34:55.788840",
     "status": "completed"
    },
    "tags": []
   },
   "source": [
    "Para verificar que la cantidad de registros eliminados haya sido la correcta, iteramos sobre el diccionario values_dict, que nos indica la cantidad de clientes que poseen N registros repetidos. Si un cliente posee N registros, se eliminarán N-1 registros suyos, ya que los N registros originales quedan reemplazados por el registro del promedio entre ellos. Por lo tanto, calculamos la cantidad de filas a eliminar:"
   ]
  },
  {
   "cell_type": "code",
   "execution_count": 17,
   "id": "59b8bea3",
   "metadata": {
    "execution": {
     "iopub.execute_input": "2022-08-02T02:34:55.888098Z",
     "iopub.status.busy": "2022-08-02T02:34:55.887090Z",
     "iopub.status.idle": "2022-08-02T02:34:55.897328Z",
     "shell.execute_reply": "2022-08-02T02:34:55.896149Z"
    },
    "papermill": {
     "duration": 0.047993,
     "end_time": "2022-08-02T02:34:55.900609",
     "exception": false,
     "start_time": "2022-08-02T02:34:55.852616",
     "status": "completed"
    },
    "tags": []
   },
   "outputs": [
    {
     "data": {
      "text/plain": [
       "22601"
      ]
     },
     "execution_count": 17,
     "metadata": {},
     "output_type": "execute_result"
    }
   ],
   "source": [
    "cant_eliminadas = 0\n",
    "for cant_repeticiones, cant_repetidos in values_dict.items():\n",
    "    cant_eliminadas += cant_repetidos * (cant_repeticiones - 1)\n",
    "cant_eliminadas"
   ]
  },
  {
   "cell_type": "code",
   "execution_count": 18,
   "id": "6946bc92",
   "metadata": {
    "execution": {
     "iopub.execute_input": "2022-08-02T02:34:55.969737Z",
     "iopub.status.busy": "2022-08-02T02:34:55.968833Z",
     "iopub.status.idle": "2022-08-02T02:34:55.979440Z",
     "shell.execute_reply": "2022-08-02T02:34:55.977835Z"
    },
    "papermill": {
     "duration": 0.047555,
     "end_time": "2022-08-02T02:34:55.982474",
     "exception": false,
     "start_time": "2022-08-02T02:34:55.934919",
     "status": "completed"
    },
    "tags": []
   },
   "outputs": [
    {
     "data": {
      "text/plain": [
       "114877"
      ]
     },
     "execution_count": 18,
     "metadata": {},
     "output_type": "execute_result"
    }
   ],
   "source": [
    "len(df_filtrado) - cant_eliminadas"
   ]
  },
  {
   "cell_type": "code",
   "execution_count": 19,
   "id": "c2541605",
   "metadata": {
    "execution": {
     "iopub.execute_input": "2022-08-02T02:34:56.053716Z",
     "iopub.status.busy": "2022-08-02T02:34:56.052306Z",
     "iopub.status.idle": "2022-08-02T02:34:57.756762Z",
     "shell.execute_reply": "2022-08-02T02:34:57.755763Z"
    },
    "papermill": {
     "duration": 1.742865,
     "end_time": "2022-08-02T02:34:57.759007",
     "exception": false,
     "start_time": "2022-08-02T02:34:56.016142",
     "status": "completed"
    },
    "tags": []
   },
   "outputs": [
    {
     "data": {
      "text/html": [
       "<div>\n",
       "<style scoped>\n",
       "    .dataframe tbody tr th:only-of-type {\n",
       "        vertical-align: middle;\n",
       "    }\n",
       "\n",
       "    .dataframe tbody tr th {\n",
       "        vertical-align: top;\n",
       "    }\n",
       "\n",
       "    .dataframe thead th {\n",
       "        text-align: right;\n",
       "    }\n",
       "</style>\n",
       "<table border=\"1\" class=\"dataframe\">\n",
       "  <thead>\n",
       "    <tr style=\"text-align: right;\">\n",
       "      <th></th>\n",
       "      <th>customer_ID</th>\n",
       "      <th>P_2</th>\n",
       "      <th>B_1</th>\n",
       "      <th>B_2</th>\n",
       "      <th>R_1</th>\n",
       "      <th>S_3</th>\n",
       "      <th>B_3</th>\n",
       "      <th>D_42</th>\n",
       "      <th>D_43</th>\n",
       "      <th>D_44</th>\n",
       "      <th>...</th>\n",
       "      <th>-1</th>\n",
       "      <th>O</th>\n",
       "      <th>R</th>\n",
       "      <th>U</th>\n",
       "      <th>CL</th>\n",
       "      <th>CO</th>\n",
       "      <th>CR</th>\n",
       "      <th>XL</th>\n",
       "      <th>XM</th>\n",
       "      <th>XZ</th>\n",
       "    </tr>\n",
       "  </thead>\n",
       "  <tbody>\n",
       "    <tr>\n",
       "      <th>0</th>\n",
       "      <td>00001b22f846c82c51f6e3958ccd81970162bae8b007e8...</td>\n",
       "      <td>0.884522</td>\n",
       "      <td>0.003495</td>\n",
       "      <td>0.818569</td>\n",
       "      <td>0.007541</td>\n",
       "      <td>NaN</td>\n",
       "      <td>0.000859</td>\n",
       "      <td>NaN</td>\n",
       "      <td>NaN</td>\n",
       "      <td>0.004704</td>\n",
       "      <td>...</td>\n",
       "      <td>0.0</td>\n",
       "      <td>0.0</td>\n",
       "      <td>1.0</td>\n",
       "      <td>0.0</td>\n",
       "      <td>0.0</td>\n",
       "      <td>1.0</td>\n",
       "      <td>0.0</td>\n",
       "      <td>0.0</td>\n",
       "      <td>0.0</td>\n",
       "      <td>0.0</td>\n",
       "    </tr>\n",
       "    <tr>\n",
       "      <th>1</th>\n",
       "      <td>000098081fde4fd64bc4d503a5d6f86a0aedc425c96f52...</td>\n",
       "      <td>0.477116</td>\n",
       "      <td>0.009413</td>\n",
       "      <td>1.009217</td>\n",
       "      <td>0.007775</td>\n",
       "      <td>0.267037</td>\n",
       "      <td>0.125927</td>\n",
       "      <td>NaN</td>\n",
       "      <td>0.057729</td>\n",
       "      <td>0.002877</td>\n",
       "      <td>...</td>\n",
       "      <td>0.0</td>\n",
       "      <td>0.0</td>\n",
       "      <td>1.0</td>\n",
       "      <td>0.0</td>\n",
       "      <td>0.0</td>\n",
       "      <td>1.0</td>\n",
       "      <td>0.0</td>\n",
       "      <td>0.0</td>\n",
       "      <td>0.0</td>\n",
       "      <td>0.0</td>\n",
       "    </tr>\n",
       "    <tr>\n",
       "      <th>2</th>\n",
       "      <td>0000d17a1447b25a01e42e1ac56b091bb7cbb06317be4c...</td>\n",
       "      <td>1.005008</td>\n",
       "      <td>0.097292</td>\n",
       "      <td>0.076512</td>\n",
       "      <td>0.002090</td>\n",
       "      <td>0.114884</td>\n",
       "      <td>0.218431</td>\n",
       "      <td>NaN</td>\n",
       "      <td>0.014638</td>\n",
       "      <td>0.003558</td>\n",
       "      <td>...</td>\n",
       "      <td>0.0</td>\n",
       "      <td>0.0</td>\n",
       "      <td>1.0</td>\n",
       "      <td>0.0</td>\n",
       "      <td>0.0</td>\n",
       "      <td>1.0</td>\n",
       "      <td>0.0</td>\n",
       "      <td>0.0</td>\n",
       "      <td>0.0</td>\n",
       "      <td>0.0</td>\n",
       "    </tr>\n",
       "    <tr>\n",
       "      <th>3</th>\n",
       "      <td>0001812036f1558332e5c0880ecbad70b13a6f28ab04a8...</td>\n",
       "      <td>0.393758</td>\n",
       "      <td>0.715061</td>\n",
       "      <td>0.019414</td>\n",
       "      <td>0.007027</td>\n",
       "      <td>1.618023</td>\n",
       "      <td>0.324966</td>\n",
       "      <td>NaN</td>\n",
       "      <td>0.355073</td>\n",
       "      <td>1.125134</td>\n",
       "      <td>...</td>\n",
       "      <td>0.0</td>\n",
       "      <td>0.0</td>\n",
       "      <td>0.0</td>\n",
       "      <td>1.0</td>\n",
       "      <td>0.0</td>\n",
       "      <td>1.0</td>\n",
       "      <td>0.0</td>\n",
       "      <td>0.0</td>\n",
       "      <td>0.0</td>\n",
       "      <td>0.0</td>\n",
       "    </tr>\n",
       "    <tr>\n",
       "      <th>4</th>\n",
       "      <td>0003e58375faf90552b2861c1ccea4ee5757827cbb6ecd...</td>\n",
       "      <td>0.829184</td>\n",
       "      <td>0.009911</td>\n",
       "      <td>0.816854</td>\n",
       "      <td>0.001524</td>\n",
       "      <td>0.385820</td>\n",
       "      <td>0.010635</td>\n",
       "      <td>NaN</td>\n",
       "      <td>0.086856</td>\n",
       "      <td>0.003417</td>\n",
       "      <td>...</td>\n",
       "      <td>0.0</td>\n",
       "      <td>1.0</td>\n",
       "      <td>0.0</td>\n",
       "      <td>0.0</td>\n",
       "      <td>0.0</td>\n",
       "      <td>1.0</td>\n",
       "      <td>0.0</td>\n",
       "      <td>0.0</td>\n",
       "      <td>0.0</td>\n",
       "      <td>0.0</td>\n",
       "    </tr>\n",
       "    <tr>\n",
       "      <th>...</th>\n",
       "      <td>...</td>\n",
       "      <td>...</td>\n",
       "      <td>...</td>\n",
       "      <td>...</td>\n",
       "      <td>...</td>\n",
       "      <td>...</td>\n",
       "      <td>...</td>\n",
       "      <td>...</td>\n",
       "      <td>...</td>\n",
       "      <td>...</td>\n",
       "      <td>...</td>\n",
       "      <td>...</td>\n",
       "      <td>...</td>\n",
       "      <td>...</td>\n",
       "      <td>...</td>\n",
       "      <td>...</td>\n",
       "      <td>...</td>\n",
       "      <td>...</td>\n",
       "      <td>...</td>\n",
       "      <td>...</td>\n",
       "      <td>...</td>\n",
       "    </tr>\n",
       "    <tr>\n",
       "      <th>114872</th>\n",
       "      <td>fffec7d7e1ca804c86f1ffdaac389c33f8039ed35bf412...</td>\n",
       "      <td>0.703939</td>\n",
       "      <td>0.008331</td>\n",
       "      <td>0.811022</td>\n",
       "      <td>0.002205</td>\n",
       "      <td>NaN</td>\n",
       "      <td>0.007565</td>\n",
       "      <td>NaN</td>\n",
       "      <td>NaN</td>\n",
       "      <td>NaN</td>\n",
       "      <td>...</td>\n",
       "      <td>0.0</td>\n",
       "      <td>0.0</td>\n",
       "      <td>1.0</td>\n",
       "      <td>0.0</td>\n",
       "      <td>0.0</td>\n",
       "      <td>1.0</td>\n",
       "      <td>0.0</td>\n",
       "      <td>0.0</td>\n",
       "      <td>0.0</td>\n",
       "      <td>0.0</td>\n",
       "    </tr>\n",
       "    <tr>\n",
       "      <th>114873</th>\n",
       "      <td>fffee847c5c1af7dbdd36d98fea882893256c422cde86c...</td>\n",
       "      <td>0.629187</td>\n",
       "      <td>0.000169</td>\n",
       "      <td>1.005938</td>\n",
       "      <td>0.008702</td>\n",
       "      <td>0.162039</td>\n",
       "      <td>0.005260</td>\n",
       "      <td>0.001686</td>\n",
       "      <td>0.064836</td>\n",
       "      <td>0.252621</td>\n",
       "      <td>...</td>\n",
       "      <td>0.0</td>\n",
       "      <td>1.0</td>\n",
       "      <td>0.0</td>\n",
       "      <td>0.0</td>\n",
       "      <td>0.0</td>\n",
       "      <td>1.0</td>\n",
       "      <td>0.0</td>\n",
       "      <td>0.0</td>\n",
       "      <td>0.0</td>\n",
       "      <td>0.0</td>\n",
       "    </tr>\n",
       "    <tr>\n",
       "      <th>114874</th>\n",
       "      <td>ffff518bb2075e4816ee3fe9f3b152c57fc0e6f01bf7fd...</td>\n",
       "      <td>0.863153</td>\n",
       "      <td>0.431408</td>\n",
       "      <td>0.030639</td>\n",
       "      <td>0.004702</td>\n",
       "      <td>0.324895</td>\n",
       "      <td>0.303498</td>\n",
       "      <td>NaN</td>\n",
       "      <td>NaN</td>\n",
       "      <td>0.125581</td>\n",
       "      <td>...</td>\n",
       "      <td>0.0</td>\n",
       "      <td>0.0</td>\n",
       "      <td>1.0</td>\n",
       "      <td>0.0</td>\n",
       "      <td>0.0</td>\n",
       "      <td>1.0</td>\n",
       "      <td>0.0</td>\n",
       "      <td>0.0</td>\n",
       "      <td>0.0</td>\n",
       "      <td>0.0</td>\n",
       "    </tr>\n",
       "    <tr>\n",
       "      <th>114875</th>\n",
       "      <td>ffffa5c46bc8de74f5a4554e74e239c8dee6b9baf38814...</td>\n",
       "      <td>0.793250</td>\n",
       "      <td>0.024697</td>\n",
       "      <td>0.182818</td>\n",
       "      <td>0.000660</td>\n",
       "      <td>0.200836</td>\n",
       "      <td>0.105039</td>\n",
       "      <td>NaN</td>\n",
       "      <td>0.077518</td>\n",
       "      <td>0.133114</td>\n",
       "      <td>...</td>\n",
       "      <td>0.0</td>\n",
       "      <td>0.0</td>\n",
       "      <td>0.0</td>\n",
       "      <td>1.0</td>\n",
       "      <td>0.0</td>\n",
       "      <td>1.0</td>\n",
       "      <td>0.0</td>\n",
       "      <td>0.0</td>\n",
       "      <td>0.0</td>\n",
       "      <td>0.0</td>\n",
       "    </tr>\n",
       "    <tr>\n",
       "      <th>114876</th>\n",
       "      <td>fffff1d38b785cef84adeace64f8f83db3a0c31e8d92ea...</td>\n",
       "      <td>1.005768</td>\n",
       "      <td>0.029999</td>\n",
       "      <td>0.620975</td>\n",
       "      <td>0.008176</td>\n",
       "      <td>0.033445</td>\n",
       "      <td>0.038097</td>\n",
       "      <td>NaN</td>\n",
       "      <td>0.014183</td>\n",
       "      <td>0.009160</td>\n",
       "      <td>...</td>\n",
       "      <td>0.0</td>\n",
       "      <td>1.0</td>\n",
       "      <td>0.0</td>\n",
       "      <td>0.0</td>\n",
       "      <td>1.0</td>\n",
       "      <td>0.0</td>\n",
       "      <td>0.0</td>\n",
       "      <td>0.0</td>\n",
       "      <td>0.0</td>\n",
       "      <td>0.0</td>\n",
       "    </tr>\n",
       "  </tbody>\n",
       "</table>\n",
       "<p>114877 rows × 59 columns</p>\n",
       "</div>"
      ],
      "text/plain": [
       "                                              customer_ID       P_2       B_1  \\\n",
       "0       00001b22f846c82c51f6e3958ccd81970162bae8b007e8...  0.884522  0.003495   \n",
       "1       000098081fde4fd64bc4d503a5d6f86a0aedc425c96f52...  0.477116  0.009413   \n",
       "2       0000d17a1447b25a01e42e1ac56b091bb7cbb06317be4c...  1.005008  0.097292   \n",
       "3       0001812036f1558332e5c0880ecbad70b13a6f28ab04a8...  0.393758  0.715061   \n",
       "4       0003e58375faf90552b2861c1ccea4ee5757827cbb6ecd...  0.829184  0.009911   \n",
       "...                                                   ...       ...       ...   \n",
       "114872  fffec7d7e1ca804c86f1ffdaac389c33f8039ed35bf412...  0.703939  0.008331   \n",
       "114873  fffee847c5c1af7dbdd36d98fea882893256c422cde86c...  0.629187  0.000169   \n",
       "114874  ffff518bb2075e4816ee3fe9f3b152c57fc0e6f01bf7fd...  0.863153  0.431408   \n",
       "114875  ffffa5c46bc8de74f5a4554e74e239c8dee6b9baf38814...  0.793250  0.024697   \n",
       "114876  fffff1d38b785cef84adeace64f8f83db3a0c31e8d92ea...  1.005768  0.029999   \n",
       "\n",
       "             B_2       R_1       S_3       B_3      D_42      D_43      D_44  \\\n",
       "0       0.818569  0.007541       NaN  0.000859       NaN       NaN  0.004704   \n",
       "1       1.009217  0.007775  0.267037  0.125927       NaN  0.057729  0.002877   \n",
       "2       0.076512  0.002090  0.114884  0.218431       NaN  0.014638  0.003558   \n",
       "3       0.019414  0.007027  1.618023  0.324966       NaN  0.355073  1.125134   \n",
       "4       0.816854  0.001524  0.385820  0.010635       NaN  0.086856  0.003417   \n",
       "...          ...       ...       ...       ...       ...       ...       ...   \n",
       "114872  0.811022  0.002205       NaN  0.007565       NaN       NaN       NaN   \n",
       "114873  1.005938  0.008702  0.162039  0.005260  0.001686  0.064836  0.252621   \n",
       "114874  0.030639  0.004702  0.324895  0.303498       NaN       NaN  0.125581   \n",
       "114875  0.182818  0.000660  0.200836  0.105039       NaN  0.077518  0.133114   \n",
       "114876  0.620975  0.008176  0.033445  0.038097       NaN  0.014183  0.009160   \n",
       "\n",
       "        ...   -1    O    R    U   CL   CO   CR   XL   XM   XZ  \n",
       "0       ...  0.0  0.0  1.0  0.0  0.0  1.0  0.0  0.0  0.0  0.0  \n",
       "1       ...  0.0  0.0  1.0  0.0  0.0  1.0  0.0  0.0  0.0  0.0  \n",
       "2       ...  0.0  0.0  1.0  0.0  0.0  1.0  0.0  0.0  0.0  0.0  \n",
       "3       ...  0.0  0.0  0.0  1.0  0.0  1.0  0.0  0.0  0.0  0.0  \n",
       "4       ...  0.0  1.0  0.0  0.0  0.0  1.0  0.0  0.0  0.0  0.0  \n",
       "...     ...  ...  ...  ...  ...  ...  ...  ...  ...  ...  ...  \n",
       "114872  ...  0.0  0.0  1.0  0.0  0.0  1.0  0.0  0.0  0.0  0.0  \n",
       "114873  ...  0.0  1.0  0.0  0.0  0.0  1.0  0.0  0.0  0.0  0.0  \n",
       "114874  ...  0.0  0.0  1.0  0.0  0.0  1.0  0.0  0.0  0.0  0.0  \n",
       "114875  ...  0.0  0.0  0.0  1.0  0.0  1.0  0.0  0.0  0.0  0.0  \n",
       "114876  ...  0.0  1.0  0.0  0.0  1.0  0.0  0.0  0.0  0.0  0.0  \n",
       "\n",
       "[114877 rows x 59 columns]"
      ]
     },
     "execution_count": 19,
     "metadata": {},
     "output_type": "execute_result"
    }
   ],
   "source": [
    "df_filtrado = df_filtrado.groupby('customer_ID').mean().reset_index()\n",
    "df_filtrado"
   ]
  },
  {
   "cell_type": "markdown",
   "id": "311ea8d0",
   "metadata": {
    "papermill": {
     "duration": 0.031098,
     "end_time": "2022-08-02T02:34:57.822764",
     "exception": false,
     "start_time": "2022-08-02T02:34:57.791666",
     "status": "completed"
    },
    "tags": []
   },
   "source": [
    "## Analisis de Outliers:\n",
    "\n",
    "Para realizar el analisis de outliers de nuestro set, vamos a realizar un analisis de boxplots:"
   ]
  },
  {
   "cell_type": "code",
   "execution_count": 20,
   "id": "0c6d991b",
   "metadata": {
    "execution": {
     "iopub.execute_input": "2022-08-02T02:34:57.887451Z",
     "iopub.status.busy": "2022-08-02T02:34:57.886923Z",
     "iopub.status.idle": "2022-08-02T02:35:06.462028Z",
     "shell.execute_reply": "2022-08-02T02:35:06.460110Z"
    },
    "papermill": {
     "duration": 8.611805,
     "end_time": "2022-08-02T02:35:06.465551",
     "exception": false,
     "start_time": "2022-08-02T02:34:57.853746",
     "status": "completed"
    },
    "tags": []
   },
   "outputs": [
    {
     "data": {
      "text/plain": [
       "<AxesSubplot:xlabel='variable', ylabel='value'>"
      ]
     },
     "execution_count": 20,
     "metadata": {},
     "output_type": "execute_result"
    },
    {
     "data": {
      "image/png": "[encoded data removed]",
      "text/plain": [
       "<Figure size 2520x2520 with 1 Axes>"
      ]
     },
     "metadata": {},
     "output_type": "display_data"
    }
   ],
   "source": [
    "df_filtrado_2 = df_filtrado.drop(\"customer_ID\", axis=1, inplace=False)\n",
    "sns.set(rc = {'figure.figsize':(35,35)})\n",
    "df = pd.DataFrame(data = df_filtrado_2, columns = df_filtrado_2.columns)\n",
    "sns.boxplot(x=\"variable\", y=\"value\", data=pd.melt(df, \"target\"))"
   ]
  },
  {
   "cell_type": "code",
   "execution_count": 21,
   "id": "170c51e4",
   "metadata": {
    "execution": {
     "iopub.execute_input": "2022-08-02T02:35:06.526208Z",
     "iopub.status.busy": "2022-08-02T02:35:06.525664Z",
     "iopub.status.idle": "2022-08-02T02:35:16.931867Z",
     "shell.execute_reply": "2022-08-02T02:35:16.930448Z"
    },
    "papermill": {
     "duration": 10.440847,
     "end_time": "2022-08-02T02:35:16.936072",
     "exception": false,
     "start_time": "2022-08-02T02:35:06.495225",
     "status": "completed"
    },
    "tags": []
   },
   "outputs": [
    {
     "data": {
      "text/plain": [
       "<AxesSubplot:xlabel='variable', ylabel='value'>"
      ]
     },
     "execution_count": 21,
     "metadata": {},
     "output_type": "execute_result"
    },
    {
     "data": {
      "image/png": "[encoded data removed]",
      "text/plain": [
       "<Figure size 2520x2520 with 1 Axes>"
      ]
     },
     "metadata": {},
     "output_type": "display_data"
    }
   ],
   "source": [
    "sns.boxplot(x=\"variable\", y=\"value\",hue = \"target\", data=pd.melt(df, \"target\"))"
   ]
  },
  {
   "cell_type": "markdown",
   "id": "425754f0",
   "metadata": {
    "papermill": {
     "duration": 0.027312,
     "end_time": "2022-08-02T02:35:16.991276",
     "exception": false,
     "start_time": "2022-08-02T02:35:16.963964",
     "status": "completed"
    },
    "tags": []
   },
   "source": [
    "Luego de graficar los valores existentes en el conjunto de entrenamiento, podemos visualizar la aparición de outliers para la mayoría de las columnas del dataset. A simple vista nos resaltan mucho algunos registros que toman valores extremadamente altos y dificultan la legibilidad de los outlayers mas cercanos a la media.\n",
    "Para poder realizar una mejor visualizacion, vamos a fijar un umbral inferior y superior al cual se transladaran los que lo superen.\n",
    "- **Umbral inferior = -1**\n",
    "- **Umbral superior = 8**\n",
    "\n",
    "Una vez establecidos estos, volvemos a realizar los graficos:\n"
   ]
  },
  {
   "cell_type": "code",
   "execution_count": 22,
   "id": "12035978",
   "metadata": {
    "execution": {
     "iopub.execute_input": "2022-08-02T02:35:17.049748Z",
     "iopub.status.busy": "2022-08-02T02:35:17.048657Z",
     "iopub.status.idle": "2022-08-02T02:35:23.416021Z",
     "shell.execute_reply": "2022-08-02T02:35:23.414789Z"
    },
    "papermill": {
     "duration": 6.399975,
     "end_time": "2022-08-02T02:35:23.419082",
     "exception": false,
     "start_time": "2022-08-02T02:35:17.019107",
     "status": "completed"
    },
    "tags": []
   },
   "outputs": [
    {
     "data": {
      "text/plain": [
       "<AxesSubplot:xlabel='variable', ylabel='value'>"
      ]
     },
     "execution_count": 22,
     "metadata": {},
     "output_type": "execute_result"
    },
    {
     "data": {
      "image/png": "[encoded data removed]",
      "text/plain": [
       "<Figure size 2520x2520 with 1 Axes>"
      ]
     },
     "metadata": {},
     "output_type": "display_data"
    }
   ],
   "source": [
    "sns.boxplot(x=\"variable\", y=\"value\", data=pd.melt(df, \"target\"))"
   ]
  },
  {
   "cell_type": "code",
   "execution_count": 23,
   "id": "5910a4e2",
   "metadata": {
    "execution": {
     "iopub.execute_input": "2022-08-02T02:35:23.481650Z",
     "iopub.status.busy": "2022-08-02T02:35:23.480873Z",
     "iopub.status.idle": "2022-08-02T02:35:33.576785Z",
     "shell.execute_reply": "2022-08-02T02:35:33.575191Z"
    },
    "papermill": {
     "duration": 10.132593,
     "end_time": "2022-08-02T02:35:33.581539",
     "exception": false,
     "start_time": "2022-08-02T02:35:23.448946",
     "status": "completed"
    },
    "tags": []
   },
   "outputs": [
    {
     "data": {
      "text/plain": [
       "<AxesSubplot:xlabel='variable', ylabel='value'>"
      ]
     },
     "execution_count": 23,
     "metadata": {},
     "output_type": "execute_result"
    },
    {
     "data": {
      "image/png": "[encoded data removed]",
      "text/plain": [
       "<Figure size 2520x2520 with 1 Axes>"
      ]
     },
     "metadata": {},
     "output_type": "display_data"
    }
   ],
   "source": [
    "df.clip(-1, 8, inplace = True)\n",
    "sns.boxplot(x=\"variable\", y=\"value\",hue = \"target\",data=pd.melt(df, \"target\"))"
   ]
  },
  {
   "cell_type": "markdown",
   "id": "5e677bee",
   "metadata": {
    "papermill": {
     "duration": 0.032604,
     "end_time": "2022-08-02T02:35:33.646143",
     "exception": false,
     "start_time": "2022-08-02T02:35:33.613539",
     "status": "completed"
    },
    "tags": []
   },
   "source": [
    "En estos ultimos boxplots, podemos ver como los registros que poseen **target = 1** (Representados en los plots naranjas) mayoritariamente ocupan la porcion de outliers que existen para los registros de **target = 0** (Representados en los plots azules). \n",
    "\n",
    "*Por ejemplo:* En los registros de las variables **B_37** se ve claramente como la porcion naranja ocupa casi la totalidad de los outliers de la porcion azul, comparando con el boxplot de esta misma variable que no esta dividido por targets, identificamos que casi toda esta porcion naranja esta ubicada entre sus outlayers.\n",
    "\n",
    "Por esta razon, entendemos que estos valores atipicos son en su mayoria los registros con **target = 1** y la tarea que deberían realizar nuestros modelos son identificarlos, por lo que decidimos no modificarlos ni eliminarlos (Exceptuando los que posean valores mucho mas elevados en coparación que los demas que son reemplazados por el umbral correspondiente)"
   ]
  },
  {
   "cell_type": "code",
   "execution_count": 24,
   "id": "a0f248a8",
   "metadata": {
    "execution": {
     "iopub.execute_input": "2022-08-02T02:35:33.712106Z",
     "iopub.status.busy": "2022-08-02T02:35:33.711608Z",
     "iopub.status.idle": "2022-08-02T02:35:33.943121Z",
     "shell.execute_reply": "2022-08-02T02:35:33.941517Z"
    },
    "papermill": {
     "duration": 0.268926,
     "end_time": "2022-08-02T02:35:33.946828",
     "exception": false,
     "start_time": "2022-08-02T02:35:33.677902",
     "status": "completed"
    },
    "tags": []
   },
   "outputs": [],
   "source": [
    "sns.set(rc = {'figure.figsize':(8,8)})\n",
    "df_filtrado.drop(\"customer_ID\", axis=1, inplace=True)\n",
    "df_filtrado.clip(-1, 8, inplace = True)"
   ]
  },
  {
   "cell_type": "markdown",
   "id": "6b549e86",
   "metadata": {
    "papermill": {
     "duration": 0.032241,
     "end_time": "2022-08-02T02:35:34.011490",
     "exception": false,
     "start_time": "2022-08-02T02:35:33.979249",
     "status": "completed"
    },
    "tags": []
   },
   "source": [
    "## Datos Faltantes:"
   ]
  },
  {
   "cell_type": "code",
   "execution_count": 25,
   "id": "7131b455",
   "metadata": {
    "execution": {
     "iopub.execute_input": "2022-08-02T02:35:34.078256Z",
     "iopub.status.busy": "2022-08-02T02:35:34.077334Z",
     "iopub.status.idle": "2022-08-02T02:35:34.607222Z",
     "shell.execute_reply": "2022-08-02T02:35:34.605379Z"
    },
    "papermill": {
     "duration": 0.565682,
     "end_time": "2022-08-02T02:35:34.609797",
     "exception": false,
     "start_time": "2022-08-02T02:35:34.044115",
     "status": "completed"
    },
    "tags": []
   },
   "outputs": [
    {
     "data": {
      "text/plain": [
       "<AxesSubplot:>"
      ]
     },
     "execution_count": 25,
     "metadata": {},
     "output_type": "execute_result"
    },
    {
     "data": {
      "image/png": "[encoded data removed]",
      "text/plain": [
       "<Figure size 1440x1800 with 1 Axes>"
      ]
     },
     "metadata": {},
     "output_type": "display_data"
    }
   ],
   "source": [
    "plt.rcParams['figure.figsize'] = (20,25)\n",
    "df_filtrado.isna().sum().sort_values(ascending = True)[df_filtrado.isna().sum()>0].plot(kind='barh')"
   ]
  },
  {
   "cell_type": "markdown",
   "id": "914eaaca",
   "metadata": {
    "papermill": {
     "duration": 0.044527,
     "end_time": "2022-08-02T02:35:34.698315",
     "exception": false,
     "start_time": "2022-08-02T02:35:34.653788",
     "status": "completed"
    },
    "tags": []
   },
   "source": [
    "Dentro del dataframe que utilizaremos para entrenar, poseemos varias registros que poseen valores nulos en algunas de sus columnas.\n",
    "\n",
    "Teniendo en cuenta el cálculo anterior del promedio en la reduccion de filas, podemos identificar que estos faltantes son el resultado de que para todas las entradas de un customer_ID, los valores pertenecientes a la columna eran nulos. Por esto, tomamos la decision de tomar que estos promedios son iguales a 0."
   ]
  },
  {
   "cell_type": "code",
   "execution_count": 26,
   "id": "f2bd4027",
   "metadata": {
    "execution": {
     "iopub.execute_input": "2022-08-02T02:35:34.769316Z",
     "iopub.status.busy": "2022-08-02T02:35:34.768870Z",
     "iopub.status.idle": "2022-08-02T02:35:34.849165Z",
     "shell.execute_reply": "2022-08-02T02:35:34.847676Z"
    },
    "papermill": {
     "duration": 0.118446,
     "end_time": "2022-08-02T02:35:34.851595",
     "exception": false,
     "start_time": "2022-08-02T02:35:34.733149",
     "status": "completed"
    },
    "tags": []
   },
   "outputs": [
    {
     "data": {
      "text/plain": [
       "P_2       0\n",
       "B_1       0\n",
       "B_2       0\n",
       "R_1       0\n",
       "S_3       0\n",
       "B_3       0\n",
       "D_42      0\n",
       "D_43      0\n",
       "D_44      0\n",
       "B_4       0\n",
       "D_45      0\n",
       "R_2       0\n",
       "D_47      0\n",
       "D_48      0\n",
       "B_7       0\n",
       "B_8       0\n",
       "D_51      0\n",
       "B_9       0\n",
       "R_3       0\n",
       "D_52      0\n",
       "P_3       0\n",
       "B_11      0\n",
       "S_7       0\n",
       "D_55      0\n",
       "D_58      0\n",
       "D_61      0\n",
       "D_62      0\n",
       "B_16      0\n",
       "B_17      0\n",
       "B_18      0\n",
       "B_19      0\n",
       "B_20      0\n",
       "B_22      0\n",
       "D_70      0\n",
       "B_23      0\n",
       "P_4       0\n",
       "D_74      0\n",
       "D_75      0\n",
       "D_77      0\n",
       "B_28      0\n",
       "B_30      0\n",
       "B_33      0\n",
       "B_37      0\n",
       "R_27      0\n",
       "B_38      0\n",
       "D_127     0\n",
       "D_131     0\n",
       "target    0\n",
       "-1        0\n",
       "O         0\n",
       "R         0\n",
       "U         0\n",
       "CL        0\n",
       "CO        0\n",
       "CR        0\n",
       "XL        0\n",
       "XM        0\n",
       "XZ        0\n",
       "dtype: int64"
      ]
     },
     "execution_count": 26,
     "metadata": {},
     "output_type": "execute_result"
    }
   ],
   "source": [
    "df_filtrado = df_filtrado.fillna(0)\n",
    "df_filtrado.isna().sum()"
   ]
  },
  {
   "cell_type": "code",
   "execution_count": 27,
   "id": "ee6f8d31",
   "metadata": {
    "_kg_hide-input": true,
    "execution": {
     "iopub.execute_input": "2022-08-02T02:35:34.924135Z",
     "iopub.status.busy": "2022-08-02T02:35:34.923390Z",
     "iopub.status.idle": "2022-08-02T02:35:34.929484Z",
     "shell.execute_reply": "2022-08-02T02:35:34.928592Z"
    },
    "papermill": {
     "duration": 0.045804,
     "end_time": "2022-08-02T02:35:34.931798",
     "exception": false,
     "start_time": "2022-08-02T02:35:34.885994",
     "status": "completed"
    },
    "tags": []
   },
   "outputs": [],
   "source": [
    "sns.set(rc = {'figure.figsize':(8,8)})"
   ]
  },
  {
   "cell_type": "markdown",
   "id": "a181ec6d",
   "metadata": {
    "papermill": {
     "duration": 0.033827,
     "end_time": "2022-08-02T02:35:34.999241",
     "exception": false,
     "start_time": "2022-08-02T02:35:34.965414",
     "status": "completed"
    },
    "tags": []
   },
   "source": [
    "## Normalizacion y unificacion de valores en columnas:"
   ]
  },
  {
   "cell_type": "markdown",
   "id": "31071100",
   "metadata": {
    "papermill": {
     "duration": 0.034261,
     "end_time": "2022-08-02T02:35:35.067497",
     "exception": false,
     "start_time": "2022-08-02T02:35:35.033236",
     "status": "completed"
    },
    "tags": []
   },
   "source": [
    "# Descripcion de los datos:"
   ]
  },
  {
   "cell_type": "markdown",
   "id": "8ce369a6",
   "metadata": {
    "papermill": {
     "duration": 0.033943,
     "end_time": "2022-08-02T02:35:35.135716",
     "exception": false,
     "start_time": "2022-08-02T02:35:35.101773",
     "status": "completed"
    },
    "tags": []
   },
   "source": [
    "# Modelos:\n",
    "\n",
    "Para la elección de un modelo certero a la hora de predecir el target de los clientes, haremos uso de las métricas precisión (precision/accuracy), exhaustividad (recall) y f1-score. Estas métricas se calculan de la siguiente manera:\n",
    "\n",
    "Precisión: $\\frac{TP}{TP + FP}$\n",
    "\n",
    "Exhaustividad: $\\frac{TP}{TP + FN}$\n",
    "\n",
    "F1 Score: $\\frac{2*Precisión*Exhaustividad}{Precisión + Exhaustividad}$\n",
    "\n",
    "donde TP = True Positive; FP = False Positive; FN = False Negative.\n",
    "\n",
    "Un True Positive es una predicción que se predijo como positiva y el resultado real fue positivo; un False Positive, cuando se predijo positivamente y resultó estar errada la predicción. Un True Negative, análogamente, es un cuando se predice negativamente y este resulta serlo; un False Negative, cuando resultó ser positivo con una predicción de resultado desfavorable.\n",
    "\n",
    "Debido a que la métrica f1-score involucra las otras dos métricas mencionadas de una manera equilibrada, es decir, su valor depende de un balance de ellas, esta es la que utilizaremos como principal indicador cuando queramos comparar distintos modelos de predictores.\n",
    "\n"
   ]
  },
  {
   "cell_type": "code",
   "execution_count": 28,
   "id": "4ba86128",
   "metadata": {
    "execution": {
     "iopub.execute_input": "2022-08-02T02:35:35.206610Z",
     "iopub.status.busy": "2022-08-02T02:35:35.206157Z",
     "iopub.status.idle": "2022-08-02T02:35:35.214172Z",
     "shell.execute_reply": "2022-08-02T02:35:35.213297Z"
    },
    "papermill": {
     "duration": 0.046138,
     "end_time": "2022-08-02T02:35:35.216153",
     "exception": false,
     "start_time": "2022-08-02T02:35:35.170015",
     "status": "completed"
    },
    "tags": []
   },
   "outputs": [],
   "source": [
    "def heatmap(modelo):\n",
    "    y_pred = modelo.predict(x_test)\n",
    "    ds_resultados = pd.DataFrame(zip(y_test,y_pred),columns=['test','pred'])\n",
    "    tabla = confusion_matrix(ds_resultados['test'], ds_resultados['pred'])\n",
    "    sns.heatmap(tabla,annot=True, fmt='g')\n",
    "    return ds_resultados\n",
    "\n",
    "def metricas(df):\n",
    "    print(\"Accuracy: \" + str(accuracy_score(df['test'], df['pred'], normalize=True)))\n",
    "    print(\"Recall: \" + str(recall_score(df['test'], df['pred'])))\n",
    "    print(\"F1: \" + str(f1_score(df['test'], df['pred'])))"
   ]
  },
  {
   "cell_type": "markdown",
   "id": "260c56f1",
   "metadata": {
    "papermill": {
     "duration": 0.034011,
     "end_time": "2022-08-02T02:35:35.283659",
     "exception": false,
     "start_time": "2022-08-02T02:35:35.249648",
     "status": "completed"
    },
    "tags": []
   },
   "source": [
    "\n",
    "## Split de los datos para testing:"
   ]
  },
  {
   "cell_type": "code",
   "execution_count": 29,
   "id": "004b7d89",
   "metadata": {
    "execution": {
     "iopub.execute_input": "2022-08-02T02:35:35.356210Z",
     "iopub.status.busy": "2022-08-02T02:35:35.355479Z",
     "iopub.status.idle": "2022-08-02T02:35:36.014584Z",
     "shell.execute_reply": "2022-08-02T02:35:36.013191Z"
    },
    "papermill": {
     "duration": 0.699251,
     "end_time": "2022-08-02T02:35:36.017690",
     "exception": false,
     "start_time": "2022-08-02T02:35:35.318439",
     "status": "completed"
    },
    "tags": []
   },
   "outputs": [],
   "source": [
    "le = LabelEncoder()\n",
    "\n",
    "df_filtrado.target = df_filtrado.target.astype('int8')\n",
    "\n",
    "for columna in df_filtrado.columns:\n",
    "    if df_filtrado[columna].dtype == object:\n",
    "        df_filtrado[columna] = le.fit_transform(df_filtrado[columna].astype(str))\n",
    "    elif df_filtrado[columna].dtype == 'float64':\n",
    "        df_filtrado[columna] = df_filtrado[columna].astype('float32')\n",
    "    else:\n",
    "        pass"
   ]
  },
  {
   "cell_type": "code",
   "execution_count": 30,
   "id": "9401ea8e",
   "metadata": {
    "execution": {
     "iopub.execute_input": "2022-08-02T02:35:36.086810Z",
     "iopub.status.busy": "2022-08-02T02:35:36.086420Z",
     "iopub.status.idle": "2022-08-02T02:35:36.195158Z",
     "shell.execute_reply": "2022-08-02T02:35:36.193908Z"
    },
    "papermill": {
     "duration": 0.14652,
     "end_time": "2022-08-02T02:35:36.197986",
     "exception": false,
     "start_time": "2022-08-02T02:35:36.051466",
     "status": "completed"
    },
    "tags": []
   },
   "outputs": [],
   "source": [
    "df_train_data_x = df_filtrado.drop(columns = ['target'], axis='columns', inplace=False)\n",
    "df_train_data_y = df_filtrado['target'].copy()\n",
    "x_train, x_test, y_train, y_test = train_test_split(df_train_data_x, df_train_data_y, test_size=0.2, random_state=12, stratify=df_filtrado['target'].values)"
   ]
  },
  {
   "cell_type": "markdown",
   "id": "5f02f39c",
   "metadata": {
    "papermill": {
     "duration": 0.033055,
     "end_time": "2022-08-02T02:35:36.264348",
     "exception": false,
     "start_time": "2022-08-02T02:35:36.231293",
     "status": "completed"
    },
    "tags": []
   },
   "source": [
    "## Random Forest:"
   ]
  },
  {
   "cell_type": "code",
   "execution_count": 31,
   "id": "5add6c54",
   "metadata": {
    "execution": {
     "iopub.execute_input": "2022-08-02T02:35:36.334313Z",
     "iopub.status.busy": "2022-08-02T02:35:36.333802Z",
     "iopub.status.idle": "2022-08-02T02:35:41.639772Z",
     "shell.execute_reply": "2022-08-02T02:35:41.638254Z"
    },
    "papermill": {
     "duration": 5.345152,
     "end_time": "2022-08-02T02:35:41.642931",
     "exception": false,
     "start_time": "2022-08-02T02:35:36.297779",
     "status": "completed"
    },
    "tags": []
   },
   "outputs": [
    {
     "data": {
      "image/png": "[encoded data removed]",
      "text/plain": [
       "<Figure size 576x576 with 2 Axes>"
      ]
     },
     "metadata": {},
     "output_type": "display_data"
    }
   ],
   "source": [
    "n_estimators = 10\n",
    "random_state = 10\n",
    "random_forest_modelo = RandomForestClassifier(n_estimators=n_estimators, random_state=random_state, max_depth=10)\n",
    "random_forest_modelo = random_forest_modelo.fit(x_train,y_train)\n",
    "ds_resultados_rf = heatmap(random_forest_modelo)"
   ]
  },
  {
   "cell_type": "code",
   "execution_count": 32,
   "id": "bf28dde4",
   "metadata": {
    "execution": {
     "iopub.execute_input": "2022-08-02T02:35:41.715591Z",
     "iopub.status.busy": "2022-08-02T02:35:41.714035Z",
     "iopub.status.idle": "2022-08-02T02:35:41.745445Z",
     "shell.execute_reply": "2022-08-02T02:35:41.744072Z"
    },
    "papermill": {
     "duration": 0.071284,
     "end_time": "2022-08-02T02:35:41.749153",
     "exception": false,
     "start_time": "2022-08-02T02:35:41.677869",
     "status": "completed"
    },
    "tags": []
   },
   "outputs": [
    {
     "name": "stdout",
     "output_type": "stream",
     "text": [
      "Accuracy: 0.8565894846796658\n",
      "Recall: 0.8805115480053445\n",
      "F1: 0.8484848484848484\n"
     ]
    }
   ],
   "source": [
    "metricas(ds_resultados_rf)"
   ]
  },
  {
   "cell_type": "markdown",
   "id": "793be9ce",
   "metadata": {
    "papermill": {
     "duration": 0.03337,
     "end_time": "2022-08-02T02:35:41.815540",
     "exception": false,
     "start_time": "2022-08-02T02:35:41.782170",
     "status": "completed"
    },
    "tags": []
   },
   "source": [
    "## XGBoost:"
   ]
  },
  {
   "cell_type": "code",
   "execution_count": 33,
   "id": "a00bcff0",
   "metadata": {
    "execution": {
     "iopub.execute_input": "2022-08-02T02:35:41.886310Z",
     "iopub.status.busy": "2022-08-02T02:35:41.885440Z",
     "iopub.status.idle": "2022-08-02T02:35:47.874383Z",
     "shell.execute_reply": "2022-08-02T02:35:47.872468Z"
    },
    "papermill": {
     "duration": 6.028036,
     "end_time": "2022-08-02T02:35:47.877335",
     "exception": false,
     "start_time": "2022-08-02T02:35:41.849299",
     "status": "completed"
    },
    "tags": []
   },
   "outputs": [
    {
     "data": {
      "image/png": "[encoded data removed]",
      "text/plain": [
       "<Figure size 576x576 with 2 Axes>"
      ]
     },
     "metadata": {},
     "output_type": "display_data"
    }
   ],
   "source": [
    "xgb_modelo = xgb.XGBClassifier(\n",
    "    random_state=random_state, \n",
    "    n_estimators=n_estimators, \n",
    "    objective=\"binary:logistic\")\n",
    "\n",
    "xgb_modelo.fit(x_train, y_train, sample_weight=compute_sample_weight(\"balanced\", y_train))\n",
    "ds_resultados_xgb = heatmap(xgb_modelo)\n",
    "y_pred_testing = xgb_modelo.predict_proba(x_test)"
   ]
  },
  {
   "cell_type": "code",
   "execution_count": 34,
   "id": "db07e931",
   "metadata": {
    "execution": {
     "iopub.execute_input": "2022-08-02T02:35:47.956007Z",
     "iopub.status.busy": "2022-08-02T02:35:47.955430Z",
     "iopub.status.idle": "2022-08-02T02:35:47.990935Z",
     "shell.execute_reply": "2022-08-02T02:35:47.988798Z"
    },
    "papermill": {
     "duration": 0.080235,
     "end_time": "2022-08-02T02:35:47.994821",
     "exception": false,
     "start_time": "2022-08-02T02:35:47.914586",
     "status": "completed"
    },
    "tags": []
   },
   "outputs": [
    {
     "name": "stdout",
     "output_type": "stream",
     "text": [
      "Accuracy: 0.858983286908078\n",
      "Recall: 0.8998854743271617\n",
      "F1: 0.8533803964159653\n"
     ]
    }
   ],
   "source": [
    "metricas(ds_resultados_xgb)"
   ]
  },
  {
   "cell_type": "markdown",
   "id": "dbe90c4a",
   "metadata": {
    "papermill": {
     "duration": 0.037235,
     "end_time": "2022-08-02T02:35:48.069567",
     "exception": false,
     "start_time": "2022-08-02T02:35:48.032332",
     "status": "completed"
    },
    "tags": []
   },
   "source": [
    "## SVM:"
   ]
  },
  {
   "cell_type": "code",
   "execution_count": 35,
   "id": "83d250d9",
   "metadata": {
    "execution": {
     "iopub.execute_input": "2022-08-02T02:35:48.147068Z",
     "iopub.status.busy": "2022-08-02T02:35:48.145550Z",
     "iopub.status.idle": "2022-08-02T02:35:53.556581Z",
     "shell.execute_reply": "2022-08-02T02:35:53.555739Z"
    },
    "papermill": {
     "duration": 5.451636,
     "end_time": "2022-08-02T02:35:53.559495",
     "exception": false,
     "start_time": "2022-08-02T02:35:48.107859",
     "status": "completed"
    },
    "tags": []
   },
   "outputs": [
    {
     "data": {
      "text/plain": [
       "LinearSVC(class_weight='balanced', dual=False)"
      ]
     },
     "execution_count": 35,
     "metadata": {},
     "output_type": "execute_result"
    }
   ],
   "source": [
    "stand_scaler = preprocessing.StandardScaler()\n",
    "x_train_norm = stand_scaler.fit_transform(x_train)\n",
    "x_test_norm = stand_scaler.fit_transform(x_test)\n",
    "svm_modelo = LinearSVC(class_weight='balanced', dual=False)\n",
    "svm_modelo.fit(x_train_norm, y_train)"
   ]
  },
  {
   "cell_type": "code",
   "execution_count": 36,
   "id": "82834e40",
   "metadata": {
    "execution": {
     "iopub.execute_input": "2022-08-02T02:35:53.633070Z",
     "iopub.status.busy": "2022-08-02T02:35:53.632561Z",
     "iopub.status.idle": "2022-08-02T02:35:53.965095Z",
     "shell.execute_reply": "2022-08-02T02:35:53.963605Z"
    },
    "papermill": {
     "duration": 0.373661,
     "end_time": "2022-08-02T02:35:53.967842",
     "exception": false,
     "start_time": "2022-08-02T02:35:53.594181",
     "status": "completed"
    },
    "tags": []
   },
   "outputs": [
    {
     "data": {
      "text/plain": [
       "Text(48.5, 0.5, 'True')"
      ]
     },
     "execution_count": 36,
     "metadata": {},
     "output_type": "execute_result"
    },
    {
     "data": {
      "image/png": "[encoded data removed]",
      "text/plain": [
       "<Figure size 576x576 with 2 Axes>"
      ]
     },
     "metadata": {},
     "output_type": "display_data"
    }
   ],
   "source": [
    "y_pred_norm = svm_modelo.predict(x_test_norm)\n",
    "cm = confusion_matrix(y_test,y_pred_norm)\n",
    "sns.heatmap(cm, annot=True, fmt='g')\n",
    "plt.xlabel('Predicted')\n",
    "plt.ylabel('True')"
   ]
  },
  {
   "cell_type": "code",
   "execution_count": 37,
   "id": "60070b4b",
   "metadata": {
    "execution": {
     "iopub.execute_input": "2022-08-02T02:35:54.041369Z",
     "iopub.status.busy": "2022-08-02T02:35:54.040895Z",
     "iopub.status.idle": "2022-08-02T02:35:54.097787Z",
     "shell.execute_reply": "2022-08-02T02:35:54.096500Z"
    },
    "papermill": {
     "duration": 0.098204,
     "end_time": "2022-08-02T02:35:54.101375",
     "exception": false,
     "start_time": "2022-08-02T02:35:54.003171",
     "status": "completed"
    },
    "tags": []
   },
   "outputs": [
    {
     "name": "stdout",
     "output_type": "stream",
     "text": [
      "Accuracy: 0.8577646239554317\n",
      "Recall: 0.8826111853407139\n",
      "F1: 0.8498437787171476\n"
     ]
    }
   ],
   "source": [
    "ds_resultados_svm = pd.DataFrame(zip(y_test,y_pred_norm),columns=['test','pred'])\n",
    "metricas(ds_resultados_svm)"
   ]
  },
  {
   "cell_type": "markdown",
   "id": "87edae43",
   "metadata": {
    "papermill": {
     "duration": 0.035528,
     "end_time": "2022-08-02T02:35:54.174571",
     "exception": false,
     "start_time": "2022-08-02T02:35:54.139043",
     "status": "completed"
    },
    "tags": []
   },
   "source": [
    "## Ensamble Voting:"
   ]
  },
  {
   "cell_type": "code",
   "execution_count": 38,
   "id": "1e1b0e3a",
   "metadata": {
    "execution": {
     "iopub.execute_input": "2022-08-02T02:35:54.248428Z",
     "iopub.status.busy": "2022-08-02T02:35:54.247549Z",
     "iopub.status.idle": "2022-08-02T02:36:10.397073Z",
     "shell.execute_reply": "2022-08-02T02:36:10.395806Z"
    },
    "papermill": {
     "duration": 16.189831,
     "end_time": "2022-08-02T02:36:10.400069",
     "exception": false,
     "start_time": "2022-08-02T02:35:54.210238",
     "status": "completed"
    },
    "tags": []
   },
   "outputs": [
    {
     "data": {
      "text/plain": [
       "VotingClassifier(estimators=[('rf',\n",
       "                              RandomForestClassifier(max_depth=10,\n",
       "                                                     n_estimators=10,\n",
       "                                                     random_state=10)),\n",
       "                             ('xgb',\n",
       "                              XGBClassifier(base_score=0.5, booster='gbtree',\n",
       "                                            callbacks=None, colsample_bylevel=1,\n",
       "                                            colsample_bynode=1,\n",
       "                                            colsample_bytree=1,\n",
       "                                            early_stopping_rounds=None,\n",
       "                                            enable_categorical=False,\n",
       "                                            eval_metric=None, gamma=0,\n",
       "                                            gpu_id=-1, grow_policy='depthwise',\n",
       "                                            importan...e,\n",
       "                                            interaction_constraints='',\n",
       "                                            learning_rate=0.300000012,\n",
       "                                            max_bin=256, max_cat_to_onehot=4,\n",
       "                                            max_delta_step=0, max_depth=6,\n",
       "                                            max_leaves=0, min_child_weight=1,\n",
       "                                            missing=nan,\n",
       "                                            monotone_constraints='()',\n",
       "                                            n_estimators=10, n_jobs=0,\n",
       "                                            num_parallel_tree=1,\n",
       "                                            predictor='auto', random_state=10,\n",
       "                                            reg_alpha=0, reg_lambda=1, ...)),\n",
       "                             ('svm',\n",
       "                              LinearSVC(class_weight='balanced', dual=False))])"
      ]
     },
     "execution_count": 38,
     "metadata": {},
     "output_type": "execute_result"
    }
   ],
   "source": [
    "ensamble_voting_modelo = VotingClassifier(estimators = [('rf', random_forest_modelo), ('xgb', xgb_modelo), ('svm', svm_modelo)], voting = 'hard')\n",
    "ensamble_voting_modelo.fit(x_train, y_train)"
   ]
  },
  {
   "cell_type": "code",
   "execution_count": 39,
   "id": "124e5614",
   "metadata": {
    "execution": {
     "iopub.execute_input": "2022-08-02T02:36:10.471938Z",
     "iopub.status.busy": "2022-08-02T02:36:10.471194Z",
     "iopub.status.idle": "2022-08-02T02:36:11.049118Z",
     "shell.execute_reply": "2022-08-02T02:36:11.047821Z"
    },
    "papermill": {
     "duration": 0.6173,
     "end_time": "2022-08-02T02:36:11.052147",
     "exception": false,
     "start_time": "2022-08-02T02:36:10.434847",
     "status": "completed"
    },
    "tags": []
   },
   "outputs": [
    {
     "data": {
      "image/png": "[encoded data removed]",
      "text/plain": [
       "<Figure size 576x576 with 2 Axes>"
      ]
     },
     "metadata": {},
     "output_type": "display_data"
    }
   ],
   "source": [
    "ds_resultados_ensamble_voting = heatmap(ensamble_voting_modelo)"
   ]
  },
  {
   "cell_type": "code",
   "execution_count": 40,
   "id": "fd10c814",
   "metadata": {
    "execution": {
     "iopub.execute_input": "2022-08-02T02:36:11.127592Z",
     "iopub.status.busy": "2022-08-02T02:36:11.127149Z",
     "iopub.status.idle": "2022-08-02T02:36:11.159696Z",
     "shell.execute_reply": "2022-08-02T02:36:11.157937Z"
    },
    "papermill": {
     "duration": 0.073906,
     "end_time": "2022-08-02T02:36:11.162366",
     "exception": false,
     "start_time": "2022-08-02T02:36:11.088460",
     "status": "completed"
    },
    "tags": []
   },
   "outputs": [
    {
     "name": "stdout",
     "output_type": "stream",
     "text": [
      "Accuracy: 0.8592444289693594\n",
      "Recall: 0.8857606413437679\n",
      "F1: 0.8516241512204075\n"
     ]
    }
   ],
   "source": [
    "metricas(ds_resultados_ensamble_voting)"
   ]
  },
  {
   "cell_type": "markdown",
   "id": "7e33ca15",
   "metadata": {
    "papermill": {
     "duration": 0.036242,
     "end_time": "2022-08-02T02:36:11.235371",
     "exception": false,
     "start_time": "2022-08-02T02:36:11.199129",
     "status": "completed"
    },
    "tags": []
   },
   "source": [
    "## Red Neuronal"
   ]
  },
  {
   "cell_type": "markdown",
   "id": "62e72b7c",
   "metadata": {
    "papermill": {
     "duration": 0.038079,
     "end_time": "2022-08-02T02:36:11.310663",
     "exception": false,
     "start_time": "2022-08-02T02:36:11.272584",
     "status": "completed"
    },
    "tags": []
   },
   "source": [
    "Para poder reproducir los resultados de nuestra red neuronal en todas las ejecuciones, primero tenemos que setear una seed, para esta, utilizamos la misma seed que usamos para el sampleo de los datos:"
   ]
  },
  {
   "cell_type": "code",
   "execution_count": 41,
   "id": "aca85bac",
   "metadata": {
    "execution": {
     "iopub.execute_input": "2022-08-02T02:36:11.387834Z",
     "iopub.status.busy": "2022-08-02T02:36:11.386814Z",
     "iopub.status.idle": "2022-08-02T02:36:11.394935Z",
     "shell.execute_reply": "2022-08-02T02:36:11.393587Z"
    },
    "papermill": {
     "duration": 0.050469,
     "end_time": "2022-08-02T02:36:11.397534",
     "exception": false,
     "start_time": "2022-08-02T02:36:11.347065",
     "status": "completed"
    },
    "tags": []
   },
   "outputs": [],
   "source": [
    "## Reproducibilidad del seteo: ##\n",
    "## https://deeplizard.com/learn/video/HcW0DeWRggs ##\n",
    "import os\n",
    "import random as rn\n",
    "import tensorflow as tf\n",
    "os.environ['PYTHONHASHSEED'] = '0'\n",
    "os.environ['CUDA_VISIBLE_DEVICES'] = ''\n",
    "np.random.seed(SEED_GRUPO)\n",
    "rn.seed(SEED_GRUPO)\n",
    "tf.random.set_seed(SEED_GRUPO)"
   ]
  },
  {
   "cell_type": "markdown",
   "id": "ac9c3721",
   "metadata": {
    "papermill": {
     "duration": 0.034457,
     "end_time": "2022-08-02T02:36:11.466918",
     "exception": false,
     "start_time": "2022-08-02T02:36:11.432461",
     "status": "completed"
    },
    "tags": []
   },
   "source": [
    "Una vez hecho esto, podemos pasar a la creacion de nuestra red:"
   ]
  },
  {
   "cell_type": "code",
   "execution_count": 42,
   "id": "c5d41fb0",
   "metadata": {
    "execution": {
     "iopub.execute_input": "2022-08-02T02:36:11.538895Z",
     "iopub.status.busy": "2022-08-02T02:36:11.538247Z",
     "iopub.status.idle": "2022-08-02T02:36:11.701555Z",
     "shell.execute_reply": "2022-08-02T02:36:11.700241Z"
    },
    "papermill": {
     "duration": 0.203478,
     "end_time": "2022-08-02T02:36:11.705149",
     "exception": false,
     "start_time": "2022-08-02T02:36:11.501671",
     "status": "completed"
    },
    "tags": []
   },
   "outputs": [
    {
     "name": "stdout",
     "output_type": "stream",
     "text": [
      "Model: \"sequential\"\n",
      "_________________________________________________________________\n",
      "Layer (type)                 Output Shape              Param #   \n",
      "=================================================================\n",
      "dense (Dense)                (None, 57)                3306      \n",
      "_________________________________________________________________\n",
      "dense_1 (Dense)              (None, 57)                3306      \n",
      "_________________________________________________________________\n",
      "dense_2 (Dense)              (None, 1)                 58        \n",
      "=================================================================\n",
      "Total params: 6,670\n",
      "Trainable params: 6,670\n",
      "Non-trainable params: 0\n",
      "_________________________________________________________________\n"
     ]
    },
    {
     "name": "stderr",
     "output_type": "stream",
     "text": [
      "2022-08-02 02:36:11.600382: I tensorflow/core/common_runtime/process_util.cc:146] Creating new thread pool with default inter op setting: 2. Tune using inter_op_parallelism_threads for best performance.\n"
     ]
    }
   ],
   "source": [
    "n_columnas = len(x_test.columns)\n",
    "classes=int(df_filtrado.loc[:,'target'].max()+1)\n",
    "\n",
    "red_modelo = Sequential([\n",
    "    # input_shape solo en la primer capa\n",
    "    Dense(n_columnas, input_shape = (n_columnas,), activation='relu'),\n",
    "    Dense(n_columnas, activation='relu'),\n",
    "    Dense(1, activation='sigmoid')\n",
    "    ])\n",
    "\n",
    "red_modelo.summary()"
   ]
  },
  {
   "cell_type": "code",
   "execution_count": 43,
   "id": "377f6741",
   "metadata": {
    "execution": {
     "iopub.execute_input": "2022-08-02T02:36:11.780348Z",
     "iopub.status.busy": "2022-08-02T02:36:11.779317Z",
     "iopub.status.idle": "2022-08-02T02:36:43.171649Z",
     "shell.execute_reply": "2022-08-02T02:36:43.169960Z"
    },
    "papermill": {
     "duration": 31.433022,
     "end_time": "2022-08-02T02:36:43.174661",
     "exception": false,
     "start_time": "2022-08-02T02:36:11.741639",
     "status": "completed"
    },
    "tags": []
   },
   "outputs": [
    {
     "name": "stderr",
     "output_type": "stream",
     "text": [
      "2022-08-02 02:36:11.953096: I tensorflow/compiler/mlir/mlir_graph_optimization_pass.cc:185] None of the MLIR Optimization Passes are enabled (registered 2)\n"
     ]
    }
   ],
   "source": [
    "red_modelo.compile(loss='binary_crossentropy', optimizer=\"Adam\", metrics=['binary_accuracy'])\n",
    "history = red_modelo.fit(x_train,y_train,epochs= 32, batch_size= 256,verbose=False)"
   ]
  },
  {
   "cell_type": "code",
   "execution_count": 44,
   "id": "3dad9599",
   "metadata": {
    "execution": {
     "iopub.execute_input": "2022-08-02T02:36:43.248045Z",
     "iopub.status.busy": "2022-08-02T02:36:43.247085Z",
     "iopub.status.idle": "2022-08-02T02:36:44.283432Z",
     "shell.execute_reply": "2022-08-02T02:36:44.282579Z"
    },
    "papermill": {
     "duration": 1.075647,
     "end_time": "2022-08-02T02:36:44.285981",
     "exception": false,
     "start_time": "2022-08-02T02:36:43.210334",
     "status": "completed"
    },
    "tags": []
   },
   "outputs": [],
   "source": [
    "y_pred = red_modelo.predict(x_test)\n",
    "a = pd.DataFrame(data = y_pred)\n",
    "b = a[0].values\n",
    "c = []\n",
    "for valor in b:\n",
    "    if valor > 0.5:\n",
    "        c.append(1)\n",
    "    else:\n",
    "        c.append(0)\n",
    "d = pd.DataFrame(data = c)"
   ]
  },
  {
   "cell_type": "code",
   "execution_count": 45,
   "id": "174c1237",
   "metadata": {
    "execution": {
     "iopub.execute_input": "2022-08-02T02:36:44.358621Z",
     "iopub.status.busy": "2022-08-02T02:36:44.358036Z",
     "iopub.status.idle": "2022-08-02T02:36:44.613272Z",
     "shell.execute_reply": "2022-08-02T02:36:44.612108Z"
    },
    "papermill": {
     "duration": 0.294498,
     "end_time": "2022-08-02T02:36:44.615814",
     "exception": false,
     "start_time": "2022-08-02T02:36:44.321316",
     "status": "completed"
    },
    "tags": []
   },
   "outputs": [
    {
     "data": {
      "text/plain": [
       "Text(48.5, 0.5, 'True')"
      ]
     },
     "execution_count": 45,
     "metadata": {},
     "output_type": "execute_result"
    },
    {
     "data": {
      "image/png": "[encoded data removed]",
      "text/plain": [
       "<Figure size 576x576 with 2 Axes>"
      ]
     },
     "metadata": {},
     "output_type": "display_data"
    }
   ],
   "source": [
    "tabla = confusion_matrix(y_test, d)\n",
    "sns.heatmap(tabla,annot=True, fmt='g')\n",
    "plt.xlabel('Predicted')\n",
    "plt.ylabel('True')"
   ]
  },
  {
   "cell_type": "code",
   "execution_count": 46,
   "id": "7a6b2be8",
   "metadata": {
    "execution": {
     "iopub.execute_input": "2022-08-02T02:36:44.688612Z",
     "iopub.status.busy": "2022-08-02T02:36:44.688208Z",
     "iopub.status.idle": "2022-08-02T02:36:44.717953Z",
     "shell.execute_reply": "2022-08-02T02:36:44.716991Z"
    },
    "papermill": {
     "duration": 0.070141,
     "end_time": "2022-08-02T02:36:44.721465",
     "exception": false,
     "start_time": "2022-08-02T02:36:44.651324",
     "status": "completed"
    },
    "tags": []
   },
   "outputs": [
    {
     "name": "stdout",
     "output_type": "stream",
     "text": [
      "  Accuracy : 0.86159\n",
      "     Recall: 0.87173\n",
      "  f-measure: 0.85173\n"
     ]
    }
   ],
   "source": [
    "print(\"  Accuracy : %.5f\" % accuracy_score(y_test, d))\n",
    "print(\"     Recall: %.5f\" % recall_score(y_test, d))\n",
    "print(\"  f-measure: %.5f\" % f1_score(y_test, d))"
   ]
  },
  {
   "cell_type": "markdown",
   "id": "825854a9",
   "metadata": {
    "papermill": {
     "duration": 0.03632,
     "end_time": "2022-08-02T02:36:44.795756",
     "exception": false,
     "start_time": "2022-08-02T02:36:44.759436",
     "status": "completed"
    },
    "tags": []
   },
   "source": [
    "## Ensamble Cascading:"
   ]
  },
  {
   "cell_type": "markdown",
   "id": "46a76f1c",
   "metadata": {
    "papermill": {
     "duration": 0.036557,
     "end_time": "2022-08-02T02:36:44.869246",
     "exception": false,
     "start_time": "2022-08-02T02:36:44.832689",
     "status": "completed"
    },
    "tags": []
   },
   "source": [
    "Ya que no existe libería que nos permita realizar este ensamble, tenemos que generar nuestras propias funciones:"
   ]
  },
  {
   "cell_type": "code",
   "execution_count": 47,
   "id": "2f4170b6",
   "metadata": {
    "execution": {
     "iopub.execute_input": "2022-08-02T02:36:44.945196Z",
     "iopub.status.busy": "2022-08-02T02:36:44.944557Z",
     "iopub.status.idle": "2022-08-02T02:36:44.956530Z",
     "shell.execute_reply": "2022-08-02T02:36:44.955237Z"
    },
    "papermill": {
     "duration": 0.053448,
     "end_time": "2022-08-02T02:36:44.959433",
     "exception": false,
     "start_time": "2022-08-02T02:36:44.905985",
     "status": "completed"
    },
    "tags": []
   },
   "outputs": [],
   "source": [
    "class Cascading:\n",
    "    def __init__(self, dict_modelos, umbral):\n",
    "        self.cantidad_modelos = len(dict_modelos)\n",
    "        self.modelo_final = list(dict_modelos)[-1]\n",
    "        self.modelos = dict_modelos\n",
    "        self.umbral = umbral\n",
    "\n",
    "        \n",
    "    def predict(self, x_test, y_test, total = True):\n",
    "        # Genero variable salida y remanentes del predict.\n",
    "        out = pd.DataFrame(columns = [\"target\", \"predict\"])\n",
    "        remanentes_x = x_test.copy()\n",
    "        remanentes_y = y_test.copy()\n",
    "        \n",
    "        # Itero todos los modelos.\n",
    "        for modelo in self.modelos:\n",
    "            if modelo == self.modelo_final and total == True:\n",
    "                # Si llega al ultimo modelo del ensamble, obtiene clasificaciones exactas para los remanentes.\n",
    "                modelo_pred = self.modelos[modelo][\"fun_clas\"](self.modelos[modelo][\"modelo\"], remanentes_x)\n",
    "                prediccion = pd.DataFrame(data = remanentes_y)\n",
    "                prediccion[\"predict\"] = modelo_pred\n",
    "                # Se añaden estas a el dataset de predecidas.\n",
    "                out = pd.concat([out, prediccion], axis = 0)\n",
    "                return out\n",
    "            else:\n",
    "                # Se obtienen los % de pertenencia a clase 1.\n",
    "                modelo_pred = self.modelos[modelo][\"fun_prob\"](self.modelos[modelo][\"modelo\"], remanentes_x)\n",
    "                prediccion = pd.DataFrame(data = remanentes_y)\n",
    "                prediccion[\"predict\"] = modelo_pred\n",
    "                # Los que superan el umbral, quedan definidos como 1\n",
    "                definidas = prediccion[prediccion[\"predict\"] > self.umbral]\n",
    "                #definidas[\"predict\"] = 1\n",
    "                definidas.loc[:, \"predict\"] = 1\n",
    "                # Se añaden estas a el dataset de predecidas y se dropean de la tabla de filas a probar\n",
    "                out = pd.concat([out, definidas], axis = 0)\n",
    "                remanentes_x.drop(definidas.index, inplace = True)\n",
    "                remanentes_y.drop(definidas.index, inplace = True)\n",
    "                \n",
    "        out[\"target\"] = out[\"target\"].astype(int)\n",
    "        out[\"predict\"] = out[\"predict\"].astype(int)\n",
    "        return out, remanentes_x"
   ]
  },
  {
   "cell_type": "markdown",
   "id": "8f08f971",
   "metadata": {
    "papermill": {
     "duration": 0.036965,
     "end_time": "2022-08-02T02:36:45.035723",
     "exception": false,
     "start_time": "2022-08-02T02:36:44.998758",
     "status": "completed"
    },
    "tags": []
   },
   "source": [
    "Una vez creado nuestro modelo de cascading, procedemos a realizar las predicciones con los siguientes ensambles creados previamente:\n",
    "\n",
    "1. Red Neuronal.\n",
    "2. Random Forest.\n",
    "3. XGBoost."
   ]
  },
  {
   "cell_type": "code",
   "execution_count": 48,
   "id": "0aabdd13",
   "metadata": {
    "execution": {
     "iopub.execute_input": "2022-08-02T02:36:45.112292Z",
     "iopub.status.busy": "2022-08-02T02:36:45.111671Z",
     "iopub.status.idle": "2022-08-02T02:36:45.118911Z",
     "shell.execute_reply": "2022-08-02T02:36:45.118080Z"
    },
    "papermill": {
     "duration": 0.048723,
     "end_time": "2022-08-02T02:36:45.121291",
     "exception": false,
     "start_time": "2022-08-02T02:36:45.072568",
     "status": "completed"
    },
    "tags": []
   },
   "outputs": [],
   "source": [
    "def fun_prob_red(modelo, x_test):\n",
    "    return modelo.predict(x_test)\n",
    "\n",
    "def fun_clas_rf_xgb(modelo, x_test):\n",
    "    out = []\n",
    "    predicciones = modelo.predict(x_test)\n",
    "    for prediccion in predicciones:\n",
    "        out.append([prediccion])\n",
    "    return np.array(out)\n",
    "\n",
    "def fun_prob_rf_xgb(modelo, x_test):\n",
    "    probabilidades = modelo.predict_proba(x_test)\n",
    "    probabilidades = np.delete(probabilidades,0,axis = 1)\n",
    "    return probabilidades\n",
    "\n",
    "dict_modelos = {\n",
    "    \"Red\":{\n",
    "        \"modelo\":red_modelo,\n",
    "        \"fun_prob\":fun_prob_red,\n",
    "        \"fun_clas\":None\n",
    "    },\n",
    "    \"Random_Forest\":{\n",
    "        \"modelo\":random_forest_modelo,\n",
    "        \"fun_prob\":fun_prob_rf_xgb,\n",
    "        \"fun_clas\":fun_clas_rf_xgb\n",
    "    },\n",
    "    \"XGBoost\":{\n",
    "        \"modelo\":xgb_modelo,\n",
    "        \"fun_prob\":fun_prob_rf_xgb,\n",
    "        \"fun_clas\":fun_clas_rf_xgb\n",
    "    }\n",
    "}"
   ]
  },
  {
   "cell_type": "code",
   "execution_count": 49,
   "id": "22495aea",
   "metadata": {
    "_kg_hide-input": false,
    "_kg_hide-output": true,
    "execution": {
     "iopub.execute_input": "2022-08-02T02:36:45.198786Z",
     "iopub.status.busy": "2022-08-02T02:36:45.198198Z",
     "iopub.status.idle": "2022-08-02T02:36:46.245630Z",
     "shell.execute_reply": "2022-08-02T02:36:46.244639Z"
    },
    "papermill": {
     "duration": 1.090214,
     "end_time": "2022-08-02T02:36:46.248844",
     "exception": false,
     "start_time": "2022-08-02T02:36:45.158630",
     "status": "completed"
    },
    "tags": []
   },
   "outputs": [
    {
     "name": "stderr",
     "output_type": "stream",
     "text": [
      "/opt/conda/lib/python3.7/site-packages/pandas/core/indexing.py:1817: SettingWithCopyWarning: \n",
      "A value is trying to be set on a copy of a slice from a DataFrame.\n",
      "Try using .loc[row_indexer,col_indexer] = value instead\n",
      "\n",
      "See the caveats in the documentation: https://pandas.pydata.org/pandas-docs/stable/user_guide/indexing.html#returning-a-view-versus-a-copy\n",
      "  self._setitem_single_column(loc, value, pi)\n"
     ]
    }
   ],
   "source": [
    "modelo_cascading_1 = Cascading(dict_modelos, 0.99)\n",
    "resultados_cascading = modelo_cascading_1.predict(x_test, y_test, total = False)"
   ]
  },
  {
   "cell_type": "code",
   "execution_count": 50,
   "id": "dd9974c2",
   "metadata": {
    "execution": {
     "iopub.execute_input": "2022-08-02T02:36:46.325310Z",
     "iopub.status.busy": "2022-08-02T02:36:46.324833Z",
     "iopub.status.idle": "2022-08-02T02:36:46.330483Z",
     "shell.execute_reply": "2022-08-02T02:36:46.329514Z"
    },
    "papermill": {
     "duration": 0.047082,
     "end_time": "2022-08-02T02:36:46.332599",
     "exception": false,
     "start_time": "2022-08-02T02:36:46.285517",
     "status": "completed"
    },
    "tags": []
   },
   "outputs": [],
   "source": [
    "out, no_clas = resultados_cascading"
   ]
  },
  {
   "cell_type": "code",
   "execution_count": 51,
   "id": "6ce2d0fa",
   "metadata": {
    "execution": {
     "iopub.execute_input": "2022-08-02T02:36:46.406445Z",
     "iopub.status.busy": "2022-08-02T02:36:46.405714Z",
     "iopub.status.idle": "2022-08-02T02:36:46.443716Z",
     "shell.execute_reply": "2022-08-02T02:36:46.442698Z"
    },
    "papermill": {
     "duration": 0.077634,
     "end_time": "2022-08-02T02:36:46.446036",
     "exception": false,
     "start_time": "2022-08-02T02:36:46.368402",
     "status": "completed"
    },
    "tags": []
   },
   "outputs": [
    {
     "data": {
      "text/html": [
       "<div>\n",
       "<style scoped>\n",
       "    .dataframe tbody tr th:only-of-type {\n",
       "        vertical-align: middle;\n",
       "    }\n",
       "\n",
       "    .dataframe tbody tr th {\n",
       "        vertical-align: top;\n",
       "    }\n",
       "\n",
       "    .dataframe thead th {\n",
       "        text-align: right;\n",
       "    }\n",
       "</style>\n",
       "<table border=\"1\" class=\"dataframe\">\n",
       "  <thead>\n",
       "    <tr style=\"text-align: right;\">\n",
       "      <th></th>\n",
       "      <th>P_2</th>\n",
       "      <th>B_1</th>\n",
       "      <th>B_2</th>\n",
       "      <th>R_1</th>\n",
       "      <th>S_3</th>\n",
       "      <th>B_3</th>\n",
       "      <th>D_42</th>\n",
       "      <th>D_43</th>\n",
       "      <th>D_44</th>\n",
       "      <th>B_4</th>\n",
       "      <th>...</th>\n",
       "      <th>-1</th>\n",
       "      <th>O</th>\n",
       "      <th>R</th>\n",
       "      <th>U</th>\n",
       "      <th>CL</th>\n",
       "      <th>CO</th>\n",
       "      <th>CR</th>\n",
       "      <th>XL</th>\n",
       "      <th>XM</th>\n",
       "      <th>XZ</th>\n",
       "    </tr>\n",
       "  </thead>\n",
       "  <tbody>\n",
       "    <tr>\n",
       "      <th>50699</th>\n",
       "      <td>0.466075</td>\n",
       "      <td>0.148131</td>\n",
       "      <td>0.092552</td>\n",
       "      <td>0.501359</td>\n",
       "      <td>0.123382</td>\n",
       "      <td>0.447703</td>\n",
       "      <td>0.000000</td>\n",
       "      <td>0.000000</td>\n",
       "      <td>0.252772</td>\n",
       "      <td>0.320829</td>\n",
       "      <td>...</td>\n",
       "      <td>0.0</td>\n",
       "      <td>1.0</td>\n",
       "      <td>0.0</td>\n",
       "      <td>0.0</td>\n",
       "      <td>0.0</td>\n",
       "      <td>0.0</td>\n",
       "      <td>1.0</td>\n",
       "      <td>0.0</td>\n",
       "      <td>0.0</td>\n",
       "      <td>0.0</td>\n",
       "    </tr>\n",
       "    <tr>\n",
       "      <th>63573</th>\n",
       "      <td>0.461154</td>\n",
       "      <td>0.029179</td>\n",
       "      <td>0.059622</td>\n",
       "      <td>0.004583</td>\n",
       "      <td>0.173706</td>\n",
       "      <td>0.062602</td>\n",
       "      <td>0.000000</td>\n",
       "      <td>0.051569</td>\n",
       "      <td>0.005333</td>\n",
       "      <td>0.174487</td>\n",
       "      <td>...</td>\n",
       "      <td>0.0</td>\n",
       "      <td>1.0</td>\n",
       "      <td>0.0</td>\n",
       "      <td>0.0</td>\n",
       "      <td>0.0</td>\n",
       "      <td>1.0</td>\n",
       "      <td>0.0</td>\n",
       "      <td>0.0</td>\n",
       "      <td>0.0</td>\n",
       "      <td>0.0</td>\n",
       "    </tr>\n",
       "    <tr>\n",
       "      <th>109847</th>\n",
       "      <td>0.844817</td>\n",
       "      <td>0.172716</td>\n",
       "      <td>0.022588</td>\n",
       "      <td>0.004321</td>\n",
       "      <td>0.255108</td>\n",
       "      <td>0.483036</td>\n",
       "      <td>0.000000</td>\n",
       "      <td>0.032942</td>\n",
       "      <td>0.002843</td>\n",
       "      <td>0.019655</td>\n",
       "      <td>...</td>\n",
       "      <td>0.0</td>\n",
       "      <td>1.0</td>\n",
       "      <td>0.0</td>\n",
       "      <td>0.0</td>\n",
       "      <td>0.0</td>\n",
       "      <td>0.0</td>\n",
       "      <td>1.0</td>\n",
       "      <td>0.0</td>\n",
       "      <td>0.0</td>\n",
       "      <td>0.0</td>\n",
       "    </tr>\n",
       "    <tr>\n",
       "      <th>81647</th>\n",
       "      <td>0.390839</td>\n",
       "      <td>0.003484</td>\n",
       "      <td>0.812953</td>\n",
       "      <td>0.004521</td>\n",
       "      <td>0.000000</td>\n",
       "      <td>0.006730</td>\n",
       "      <td>0.000000</td>\n",
       "      <td>0.000000</td>\n",
       "      <td>0.131354</td>\n",
       "      <td>0.245824</td>\n",
       "      <td>...</td>\n",
       "      <td>0.0</td>\n",
       "      <td>1.0</td>\n",
       "      <td>0.0</td>\n",
       "      <td>0.0</td>\n",
       "      <td>0.0</td>\n",
       "      <td>1.0</td>\n",
       "      <td>0.0</td>\n",
       "      <td>0.0</td>\n",
       "      <td>0.0</td>\n",
       "      <td>0.0</td>\n",
       "    </tr>\n",
       "    <tr>\n",
       "      <th>32255</th>\n",
       "      <td>0.531923</td>\n",
       "      <td>0.519495</td>\n",
       "      <td>0.044563</td>\n",
       "      <td>0.259270</td>\n",
       "      <td>0.136752</td>\n",
       "      <td>0.805830</td>\n",
       "      <td>0.000000</td>\n",
       "      <td>0.118133</td>\n",
       "      <td>0.130996</td>\n",
       "      <td>1.237683</td>\n",
       "      <td>...</td>\n",
       "      <td>0.0</td>\n",
       "      <td>1.0</td>\n",
       "      <td>0.0</td>\n",
       "      <td>0.0</td>\n",
       "      <td>1.0</td>\n",
       "      <td>0.0</td>\n",
       "      <td>0.0</td>\n",
       "      <td>0.0</td>\n",
       "      <td>0.0</td>\n",
       "      <td>0.0</td>\n",
       "    </tr>\n",
       "    <tr>\n",
       "      <th>...</th>\n",
       "      <td>...</td>\n",
       "      <td>...</td>\n",
       "      <td>...</td>\n",
       "      <td>...</td>\n",
       "      <td>...</td>\n",
       "      <td>...</td>\n",
       "      <td>...</td>\n",
       "      <td>...</td>\n",
       "      <td>...</td>\n",
       "      <td>...</td>\n",
       "      <td>...</td>\n",
       "      <td>...</td>\n",
       "      <td>...</td>\n",
       "      <td>...</td>\n",
       "      <td>...</td>\n",
       "      <td>...</td>\n",
       "      <td>...</td>\n",
       "      <td>...</td>\n",
       "      <td>...</td>\n",
       "      <td>...</td>\n",
       "      <td>...</td>\n",
       "    </tr>\n",
       "    <tr>\n",
       "      <th>1200</th>\n",
       "      <td>0.847561</td>\n",
       "      <td>0.016400</td>\n",
       "      <td>1.005889</td>\n",
       "      <td>0.008405</td>\n",
       "      <td>0.142458</td>\n",
       "      <td>0.001256</td>\n",
       "      <td>0.000000</td>\n",
       "      <td>0.001145</td>\n",
       "      <td>0.008097</td>\n",
       "      <td>0.090299</td>\n",
       "      <td>...</td>\n",
       "      <td>0.0</td>\n",
       "      <td>0.0</td>\n",
       "      <td>0.0</td>\n",
       "      <td>1.0</td>\n",
       "      <td>0.0</td>\n",
       "      <td>1.0</td>\n",
       "      <td>0.0</td>\n",
       "      <td>0.0</td>\n",
       "      <td>0.0</td>\n",
       "      <td>0.0</td>\n",
       "    </tr>\n",
       "    <tr>\n",
       "      <th>11099</th>\n",
       "      <td>-0.060567</td>\n",
       "      <td>0.230884</td>\n",
       "      <td>0.095887</td>\n",
       "      <td>0.877263</td>\n",
       "      <td>0.210273</td>\n",
       "      <td>0.475037</td>\n",
       "      <td>0.000000</td>\n",
       "      <td>0.258308</td>\n",
       "      <td>0.755718</td>\n",
       "      <td>0.472029</td>\n",
       "      <td>...</td>\n",
       "      <td>0.0</td>\n",
       "      <td>0.5</td>\n",
       "      <td>0.0</td>\n",
       "      <td>0.5</td>\n",
       "      <td>0.0</td>\n",
       "      <td>1.0</td>\n",
       "      <td>0.0</td>\n",
       "      <td>0.0</td>\n",
       "      <td>0.0</td>\n",
       "      <td>0.0</td>\n",
       "    </tr>\n",
       "    <tr>\n",
       "      <th>71135</th>\n",
       "      <td>0.588566</td>\n",
       "      <td>0.104117</td>\n",
       "      <td>0.333214</td>\n",
       "      <td>0.000480</td>\n",
       "      <td>0.218904</td>\n",
       "      <td>0.093946</td>\n",
       "      <td>0.000000</td>\n",
       "      <td>0.207293</td>\n",
       "      <td>0.259302</td>\n",
       "      <td>0.540232</td>\n",
       "      <td>...</td>\n",
       "      <td>0.0</td>\n",
       "      <td>1.0</td>\n",
       "      <td>0.0</td>\n",
       "      <td>0.0</td>\n",
       "      <td>0.0</td>\n",
       "      <td>1.0</td>\n",
       "      <td>0.0</td>\n",
       "      <td>0.0</td>\n",
       "      <td>0.0</td>\n",
       "      <td>0.0</td>\n",
       "    </tr>\n",
       "    <tr>\n",
       "      <th>92320</th>\n",
       "      <td>0.316989</td>\n",
       "      <td>0.434279</td>\n",
       "      <td>0.035093</td>\n",
       "      <td>0.255271</td>\n",
       "      <td>0.195429</td>\n",
       "      <td>0.384429</td>\n",
       "      <td>0.290498</td>\n",
       "      <td>0.290798</td>\n",
       "      <td>0.085860</td>\n",
       "      <td>0.147821</td>\n",
       "      <td>...</td>\n",
       "      <td>0.0</td>\n",
       "      <td>0.0</td>\n",
       "      <td>0.0</td>\n",
       "      <td>1.0</td>\n",
       "      <td>0.0</td>\n",
       "      <td>1.0</td>\n",
       "      <td>0.0</td>\n",
       "      <td>0.0</td>\n",
       "      <td>0.0</td>\n",
       "      <td>0.0</td>\n",
       "    </tr>\n",
       "    <tr>\n",
       "      <th>91812</th>\n",
       "      <td>0.832024</td>\n",
       "      <td>0.004949</td>\n",
       "      <td>1.001663</td>\n",
       "      <td>0.003874</td>\n",
       "      <td>0.192855</td>\n",
       "      <td>0.003939</td>\n",
       "      <td>0.000000</td>\n",
       "      <td>0.109171</td>\n",
       "      <td>0.130290</td>\n",
       "      <td>0.192851</td>\n",
       "      <td>...</td>\n",
       "      <td>0.0</td>\n",
       "      <td>1.0</td>\n",
       "      <td>0.0</td>\n",
       "      <td>0.0</td>\n",
       "      <td>0.0</td>\n",
       "      <td>1.0</td>\n",
       "      <td>0.0</td>\n",
       "      <td>0.0</td>\n",
       "      <td>0.0</td>\n",
       "      <td>0.0</td>\n",
       "    </tr>\n",
       "  </tbody>\n",
       "</table>\n",
       "<p>22786 rows × 57 columns</p>\n",
       "</div>"
      ],
      "text/plain": [
       "             P_2       B_1       B_2       R_1       S_3       B_3      D_42  \\\n",
       "50699   0.466075  0.148131  0.092552  0.501359  0.123382  0.447703  0.000000   \n",
       "63573   0.461154  0.029179  0.059622  0.004583  0.173706  0.062602  0.000000   \n",
       "109847  0.844817  0.172716  0.022588  0.004321  0.255108  0.483036  0.000000   \n",
       "81647   0.390839  0.003484  0.812953  0.004521  0.000000  0.006730  0.000000   \n",
       "32255   0.531923  0.519495  0.044563  0.259270  0.136752  0.805830  0.000000   \n",
       "...          ...       ...       ...       ...       ...       ...       ...   \n",
       "1200    0.847561  0.016400  1.005889  0.008405  0.142458  0.001256  0.000000   \n",
       "11099  -0.060567  0.230884  0.095887  0.877263  0.210273  0.475037  0.000000   \n",
       "71135   0.588566  0.104117  0.333214  0.000480  0.218904  0.093946  0.000000   \n",
       "92320   0.316989  0.434279  0.035093  0.255271  0.195429  0.384429  0.290498   \n",
       "91812   0.832024  0.004949  1.001663  0.003874  0.192855  0.003939  0.000000   \n",
       "\n",
       "            D_43      D_44       B_4  ...   -1    O    R    U   CL   CO   CR  \\\n",
       "50699   0.000000  0.252772  0.320829  ...  0.0  1.0  0.0  0.0  0.0  0.0  1.0   \n",
       "63573   0.051569  0.005333  0.174487  ...  0.0  1.0  0.0  0.0  0.0  1.0  0.0   \n",
       "109847  0.032942  0.002843  0.019655  ...  0.0  1.0  0.0  0.0  0.0  0.0  1.0   \n",
       "81647   0.000000  0.131354  0.245824  ...  0.0  1.0  0.0  0.0  0.0  1.0  0.0   \n",
       "32255   0.118133  0.130996  1.237683  ...  0.0  1.0  0.0  0.0  1.0  0.0  0.0   \n",
       "...          ...       ...       ...  ...  ...  ...  ...  ...  ...  ...  ...   \n",
       "1200    0.001145  0.008097  0.090299  ...  0.0  0.0  0.0  1.0  0.0  1.0  0.0   \n",
       "11099   0.258308  0.755718  0.472029  ...  0.0  0.5  0.0  0.5  0.0  1.0  0.0   \n",
       "71135   0.207293  0.259302  0.540232  ...  0.0  1.0  0.0  0.0  0.0  1.0  0.0   \n",
       "92320   0.290798  0.085860  0.147821  ...  0.0  0.0  0.0  1.0  0.0  1.0  0.0   \n",
       "91812   0.109171  0.130290  0.192851  ...  0.0  1.0  0.0  0.0  0.0  1.0  0.0   \n",
       "\n",
       "         XL   XM   XZ  \n",
       "50699   0.0  0.0  0.0  \n",
       "63573   0.0  0.0  0.0  \n",
       "109847  0.0  0.0  0.0  \n",
       "81647   0.0  0.0  0.0  \n",
       "32255   0.0  0.0  0.0  \n",
       "...     ...  ...  ...  \n",
       "1200    0.0  0.0  0.0  \n",
       "11099   0.0  0.0  0.0  \n",
       "71135   0.0  0.0  0.0  \n",
       "92320   0.0  0.0  0.0  \n",
       "91812   0.0  0.0  0.0  \n",
       "\n",
       "[22786 rows x 57 columns]"
      ]
     },
     "execution_count": 51,
     "metadata": {},
     "output_type": "execute_result"
    }
   ],
   "source": [
    "no_clas"
   ]
  },
  {
   "cell_type": "code",
   "execution_count": 52,
   "id": "475dfc2d",
   "metadata": {
    "execution": {
     "iopub.execute_input": "2022-08-02T02:36:46.520287Z",
     "iopub.status.busy": "2022-08-02T02:36:46.519605Z",
     "iopub.status.idle": "2022-08-02T02:36:46.534285Z",
     "shell.execute_reply": "2022-08-02T02:36:46.533098Z"
    },
    "papermill": {
     "duration": 0.054395,
     "end_time": "2022-08-02T02:36:46.536560",
     "exception": false,
     "start_time": "2022-08-02T02:36:46.482165",
     "status": "completed"
    },
    "tags": []
   },
   "outputs": [
    {
     "data": {
      "text/html": [
       "<div>\n",
       "<style scoped>\n",
       "    .dataframe tbody tr th:only-of-type {\n",
       "        vertical-align: middle;\n",
       "    }\n",
       "\n",
       "    .dataframe tbody tr th {\n",
       "        vertical-align: top;\n",
       "    }\n",
       "\n",
       "    .dataframe thead th {\n",
       "        text-align: right;\n",
       "    }\n",
       "</style>\n",
       "<table border=\"1\" class=\"dataframe\">\n",
       "  <thead>\n",
       "    <tr style=\"text-align: right;\">\n",
       "      <th></th>\n",
       "      <th>target</th>\n",
       "      <th>predict</th>\n",
       "    </tr>\n",
       "  </thead>\n",
       "  <tbody>\n",
       "    <tr>\n",
       "      <th>42512</th>\n",
       "      <td>1</td>\n",
       "      <td>1</td>\n",
       "    </tr>\n",
       "    <tr>\n",
       "      <th>80052</th>\n",
       "      <td>1</td>\n",
       "      <td>1</td>\n",
       "    </tr>\n",
       "    <tr>\n",
       "      <th>86324</th>\n",
       "      <td>1</td>\n",
       "      <td>1</td>\n",
       "    </tr>\n",
       "    <tr>\n",
       "      <th>38784</th>\n",
       "      <td>1</td>\n",
       "      <td>1</td>\n",
       "    </tr>\n",
       "    <tr>\n",
       "      <th>89107</th>\n",
       "      <td>1</td>\n",
       "      <td>1</td>\n",
       "    </tr>\n",
       "    <tr>\n",
       "      <th>...</th>\n",
       "      <td>...</td>\n",
       "      <td>...</td>\n",
       "    </tr>\n",
       "    <tr>\n",
       "      <th>24028</th>\n",
       "      <td>1</td>\n",
       "      <td>1</td>\n",
       "    </tr>\n",
       "    <tr>\n",
       "      <th>29453</th>\n",
       "      <td>1</td>\n",
       "      <td>1</td>\n",
       "    </tr>\n",
       "    <tr>\n",
       "      <th>79504</th>\n",
       "      <td>1</td>\n",
       "      <td>1</td>\n",
       "    </tr>\n",
       "    <tr>\n",
       "      <th>69501</th>\n",
       "      <td>1</td>\n",
       "      <td>1</td>\n",
       "    </tr>\n",
       "    <tr>\n",
       "      <th>63767</th>\n",
       "      <td>1</td>\n",
       "      <td>1</td>\n",
       "    </tr>\n",
       "  </tbody>\n",
       "</table>\n",
       "<p>190 rows × 2 columns</p>\n",
       "</div>"
      ],
      "text/plain": [
       "       target  predict\n",
       "42512       1        1\n",
       "80052       1        1\n",
       "86324       1        1\n",
       "38784       1        1\n",
       "89107       1        1\n",
       "...       ...      ...\n",
       "24028       1        1\n",
       "29453       1        1\n",
       "79504       1        1\n",
       "69501       1        1\n",
       "63767       1        1\n",
       "\n",
       "[190 rows x 2 columns]"
      ]
     },
     "execution_count": 52,
     "metadata": {},
     "output_type": "execute_result"
    }
   ],
   "source": [
    "out.sort_values(by = \"predict\", ascending = True)"
   ]
  },
  {
   "cell_type": "code",
   "execution_count": 53,
   "id": "ca60519d",
   "metadata": {
    "execution": {
     "iopub.execute_input": "2022-08-02T02:36:46.610461Z",
     "iopub.status.busy": "2022-08-02T02:36:46.609772Z",
     "iopub.status.idle": "2022-08-02T02:36:46.866153Z",
     "shell.execute_reply": "2022-08-02T02:36:46.864620Z"
    },
    "papermill": {
     "duration": 0.296754,
     "end_time": "2022-08-02T02:36:46.869095",
     "exception": false,
     "start_time": "2022-08-02T02:36:46.572341",
     "status": "completed"
    },
    "tags": []
   },
   "outputs": [
    {
     "data": {
      "text/plain": [
       "Text(48.5, 0.5, 'True')"
      ]
     },
     "execution_count": 53,
     "metadata": {},
     "output_type": "execute_result"
    },
    {
     "data": {
      "image/png": "[encoded data removed]",
      "text/plain": [
       "<Figure size 576x576 with 2 Axes>"
      ]
     },
     "metadata": {},
     "output_type": "display_data"
    }
   ],
   "source": [
    "tabla = confusion_matrix(out['target'], out['predict'])\n",
    "sns.heatmap(tabla,annot=True, fmt='g')\n",
    "plt.xlabel('Predicted')\n",
    "plt.ylabel('True')"
   ]
  },
  {
   "cell_type": "code",
   "execution_count": 54,
   "id": "bb2e656d",
   "metadata": {
    "execution": {
     "iopub.execute_input": "2022-08-02T02:36:46.944624Z",
     "iopub.status.busy": "2022-08-02T02:36:46.944157Z",
     "iopub.status.idle": "2022-08-02T02:36:46.956493Z",
     "shell.execute_reply": "2022-08-02T02:36:46.954590Z"
    },
    "papermill": {
     "duration": 0.054768,
     "end_time": "2022-08-02T02:36:46.960273",
     "exception": false,
     "start_time": "2022-08-02T02:36:46.905505",
     "status": "completed"
    },
    "tags": []
   },
   "outputs": [
    {
     "name": "stdout",
     "output_type": "stream",
     "text": [
      "Accuracy: 0.9947368421052631\n",
      "Recall: 1.0\n",
      "F1: 0.9973614775725593\n"
     ]
    }
   ],
   "source": [
    "print(\"Accuracy: \" + str(accuracy_score(out['target'], out['predict'], normalize=True)))\n",
    "print(\"Recall: \" + str(recall_score(out['target'], out['predict'])))\n",
    "print(\"F1: \" + str(f1_score(out['target'], out['predict'])))"
   ]
  },
  {
   "cell_type": "code",
   "execution_count": 55,
   "id": "b09691e8",
   "metadata": {
    "execution": {
     "iopub.execute_input": "2022-08-02T02:36:47.038168Z",
     "iopub.status.busy": "2022-08-02T02:36:47.037709Z",
     "iopub.status.idle": "2022-08-02T02:36:48.051117Z",
     "shell.execute_reply": "2022-08-02T02:36:48.049923Z"
    },
    "papermill": {
     "duration": 1.055538,
     "end_time": "2022-08-02T02:36:48.054378",
     "exception": false,
     "start_time": "2022-08-02T02:36:46.998840",
     "status": "completed"
    },
    "tags": []
   },
   "outputs": [
    {
     "name": "stderr",
     "output_type": "stream",
     "text": [
      "/opt/conda/lib/python3.7/site-packages/pandas/core/indexing.py:1817: SettingWithCopyWarning: \n",
      "A value is trying to be set on a copy of a slice from a DataFrame.\n",
      "Try using .loc[row_indexer,col_indexer] = value instead\n",
      "\n",
      "See the caveats in the documentation: https://pandas.pydata.org/pandas-docs/stable/user_guide/indexing.html#returning-a-view-versus-a-copy\n",
      "  self._setitem_single_column(loc, value, pi)\n",
      "/opt/conda/lib/python3.7/site-packages/pandas/core/indexing.py:1817: SettingWithCopyWarning: \n",
      "A value is trying to be set on a copy of a slice from a DataFrame.\n",
      "Try using .loc[row_indexer,col_indexer] = value instead\n",
      "\n",
      "See the caveats in the documentation: https://pandas.pydata.org/pandas-docs/stable/user_guide/indexing.html#returning-a-view-versus-a-copy\n",
      "  self._setitem_single_column(loc, value, pi)\n"
     ]
    }
   ],
   "source": [
    "modelo_cascading_2 = Cascading(dict_modelos, 0.95)\n",
    "resultados_cascading2 = modelo_cascading_2.predict(x_test, y_test, total = False)"
   ]
  },
  {
   "cell_type": "code",
   "execution_count": 56,
   "id": "8b8ec6c0",
   "metadata": {
    "execution": {
     "iopub.execute_input": "2022-08-02T02:36:48.135809Z",
     "iopub.status.busy": "2022-08-02T02:36:48.135388Z",
     "iopub.status.idle": "2022-08-02T02:36:48.140623Z",
     "shell.execute_reply": "2022-08-02T02:36:48.139316Z"
    },
    "papermill": {
     "duration": 0.049046,
     "end_time": "2022-08-02T02:36:48.142918",
     "exception": false,
     "start_time": "2022-08-02T02:36:48.093872",
     "status": "completed"
    },
    "tags": []
   },
   "outputs": [],
   "source": [
    "out2, no_clas2 = resultados_cascading2"
   ]
  },
  {
   "cell_type": "code",
   "execution_count": 57,
   "id": "6f2be8e2",
   "metadata": {
    "execution": {
     "iopub.execute_input": "2022-08-02T02:36:48.222542Z",
     "iopub.status.busy": "2022-08-02T02:36:48.221563Z",
     "iopub.status.idle": "2022-08-02T02:36:48.265255Z",
     "shell.execute_reply": "2022-08-02T02:36:48.264059Z"
    },
    "papermill": {
     "duration": 0.086782,
     "end_time": "2022-08-02T02:36:48.267941",
     "exception": false,
     "start_time": "2022-08-02T02:36:48.181159",
     "status": "completed"
    },
    "tags": []
   },
   "outputs": [
    {
     "data": {
      "text/html": [
       "<div>\n",
       "<style scoped>\n",
       "    .dataframe tbody tr th:only-of-type {\n",
       "        vertical-align: middle;\n",
       "    }\n",
       "\n",
       "    .dataframe tbody tr th {\n",
       "        vertical-align: top;\n",
       "    }\n",
       "\n",
       "    .dataframe thead th {\n",
       "        text-align: right;\n",
       "    }\n",
       "</style>\n",
       "<table border=\"1\" class=\"dataframe\">\n",
       "  <thead>\n",
       "    <tr style=\"text-align: right;\">\n",
       "      <th></th>\n",
       "      <th>P_2</th>\n",
       "      <th>B_1</th>\n",
       "      <th>B_2</th>\n",
       "      <th>R_1</th>\n",
       "      <th>S_3</th>\n",
       "      <th>B_3</th>\n",
       "      <th>D_42</th>\n",
       "      <th>D_43</th>\n",
       "      <th>D_44</th>\n",
       "      <th>B_4</th>\n",
       "      <th>...</th>\n",
       "      <th>-1</th>\n",
       "      <th>O</th>\n",
       "      <th>R</th>\n",
       "      <th>U</th>\n",
       "      <th>CL</th>\n",
       "      <th>CO</th>\n",
       "      <th>CR</th>\n",
       "      <th>XL</th>\n",
       "      <th>XM</th>\n",
       "      <th>XZ</th>\n",
       "    </tr>\n",
       "  </thead>\n",
       "  <tbody>\n",
       "    <tr>\n",
       "      <th>50699</th>\n",
       "      <td>0.466075</td>\n",
       "      <td>0.148131</td>\n",
       "      <td>0.092552</td>\n",
       "      <td>0.501359</td>\n",
       "      <td>0.123382</td>\n",
       "      <td>0.447703</td>\n",
       "      <td>0.0</td>\n",
       "      <td>0.000000</td>\n",
       "      <td>0.252772</td>\n",
       "      <td>0.320829</td>\n",
       "      <td>...</td>\n",
       "      <td>0.0</td>\n",
       "      <td>1.0</td>\n",
       "      <td>0.0</td>\n",
       "      <td>0.0</td>\n",
       "      <td>0.0</td>\n",
       "      <td>0.0</td>\n",
       "      <td>1.0</td>\n",
       "      <td>0.0</td>\n",
       "      <td>0.0</td>\n",
       "      <td>0.0</td>\n",
       "    </tr>\n",
       "    <tr>\n",
       "      <th>63573</th>\n",
       "      <td>0.461154</td>\n",
       "      <td>0.029179</td>\n",
       "      <td>0.059622</td>\n",
       "      <td>0.004583</td>\n",
       "      <td>0.173706</td>\n",
       "      <td>0.062602</td>\n",
       "      <td>0.0</td>\n",
       "      <td>0.051569</td>\n",
       "      <td>0.005333</td>\n",
       "      <td>0.174487</td>\n",
       "      <td>...</td>\n",
       "      <td>0.0</td>\n",
       "      <td>1.0</td>\n",
       "      <td>0.0</td>\n",
       "      <td>0.0</td>\n",
       "      <td>0.0</td>\n",
       "      <td>1.0</td>\n",
       "      <td>0.0</td>\n",
       "      <td>0.0</td>\n",
       "      <td>0.0</td>\n",
       "      <td>0.0</td>\n",
       "    </tr>\n",
       "    <tr>\n",
       "      <th>109847</th>\n",
       "      <td>0.844817</td>\n",
       "      <td>0.172716</td>\n",
       "      <td>0.022588</td>\n",
       "      <td>0.004321</td>\n",
       "      <td>0.255108</td>\n",
       "      <td>0.483036</td>\n",
       "      <td>0.0</td>\n",
       "      <td>0.032942</td>\n",
       "      <td>0.002843</td>\n",
       "      <td>0.019655</td>\n",
       "      <td>...</td>\n",
       "      <td>0.0</td>\n",
       "      <td>1.0</td>\n",
       "      <td>0.0</td>\n",
       "      <td>0.0</td>\n",
       "      <td>0.0</td>\n",
       "      <td>0.0</td>\n",
       "      <td>1.0</td>\n",
       "      <td>0.0</td>\n",
       "      <td>0.0</td>\n",
       "      <td>0.0</td>\n",
       "    </tr>\n",
       "    <tr>\n",
       "      <th>81647</th>\n",
       "      <td>0.390839</td>\n",
       "      <td>0.003484</td>\n",
       "      <td>0.812953</td>\n",
       "      <td>0.004521</td>\n",
       "      <td>0.000000</td>\n",
       "      <td>0.006730</td>\n",
       "      <td>0.0</td>\n",
       "      <td>0.000000</td>\n",
       "      <td>0.131354</td>\n",
       "      <td>0.245824</td>\n",
       "      <td>...</td>\n",
       "      <td>0.0</td>\n",
       "      <td>1.0</td>\n",
       "      <td>0.0</td>\n",
       "      <td>0.0</td>\n",
       "      <td>0.0</td>\n",
       "      <td>1.0</td>\n",
       "      <td>0.0</td>\n",
       "      <td>0.0</td>\n",
       "      <td>0.0</td>\n",
       "      <td>0.0</td>\n",
       "    </tr>\n",
       "    <tr>\n",
       "      <th>32255</th>\n",
       "      <td>0.531923</td>\n",
       "      <td>0.519495</td>\n",
       "      <td>0.044563</td>\n",
       "      <td>0.259270</td>\n",
       "      <td>0.136752</td>\n",
       "      <td>0.805830</td>\n",
       "      <td>0.0</td>\n",
       "      <td>0.118133</td>\n",
       "      <td>0.130996</td>\n",
       "      <td>1.237683</td>\n",
       "      <td>...</td>\n",
       "      <td>0.0</td>\n",
       "      <td>1.0</td>\n",
       "      <td>0.0</td>\n",
       "      <td>0.0</td>\n",
       "      <td>1.0</td>\n",
       "      <td>0.0</td>\n",
       "      <td>0.0</td>\n",
       "      <td>0.0</td>\n",
       "      <td>0.0</td>\n",
       "      <td>0.0</td>\n",
       "    </tr>\n",
       "    <tr>\n",
       "      <th>...</th>\n",
       "      <td>...</td>\n",
       "      <td>...</td>\n",
       "      <td>...</td>\n",
       "      <td>...</td>\n",
       "      <td>...</td>\n",
       "      <td>...</td>\n",
       "      <td>...</td>\n",
       "      <td>...</td>\n",
       "      <td>...</td>\n",
       "      <td>...</td>\n",
       "      <td>...</td>\n",
       "      <td>...</td>\n",
       "      <td>...</td>\n",
       "      <td>...</td>\n",
       "      <td>...</td>\n",
       "      <td>...</td>\n",
       "      <td>...</td>\n",
       "      <td>...</td>\n",
       "      <td>...</td>\n",
       "      <td>...</td>\n",
       "      <td>...</td>\n",
       "    </tr>\n",
       "    <tr>\n",
       "      <th>2418</th>\n",
       "      <td>0.868224</td>\n",
       "      <td>0.015248</td>\n",
       "      <td>0.816805</td>\n",
       "      <td>0.000561</td>\n",
       "      <td>0.434756</td>\n",
       "      <td>0.018087</td>\n",
       "      <td>0.0</td>\n",
       "      <td>0.064153</td>\n",
       "      <td>0.009765</td>\n",
       "      <td>0.043205</td>\n",
       "      <td>...</td>\n",
       "      <td>0.0</td>\n",
       "      <td>0.0</td>\n",
       "      <td>0.0</td>\n",
       "      <td>1.0</td>\n",
       "      <td>0.0</td>\n",
       "      <td>1.0</td>\n",
       "      <td>0.0</td>\n",
       "      <td>0.0</td>\n",
       "      <td>0.0</td>\n",
       "      <td>0.0</td>\n",
       "    </tr>\n",
       "    <tr>\n",
       "      <th>59996</th>\n",
       "      <td>0.616328</td>\n",
       "      <td>0.295959</td>\n",
       "      <td>0.076041</td>\n",
       "      <td>0.009304</td>\n",
       "      <td>0.497519</td>\n",
       "      <td>0.213557</td>\n",
       "      <td>0.0</td>\n",
       "      <td>0.022040</td>\n",
       "      <td>0.134298</td>\n",
       "      <td>0.594601</td>\n",
       "      <td>...</td>\n",
       "      <td>0.0</td>\n",
       "      <td>0.0</td>\n",
       "      <td>1.0</td>\n",
       "      <td>0.0</td>\n",
       "      <td>1.0</td>\n",
       "      <td>0.0</td>\n",
       "      <td>0.0</td>\n",
       "      <td>0.0</td>\n",
       "      <td>0.0</td>\n",
       "      <td>0.0</td>\n",
       "    </tr>\n",
       "    <tr>\n",
       "      <th>1200</th>\n",
       "      <td>0.847561</td>\n",
       "      <td>0.016400</td>\n",
       "      <td>1.005889</td>\n",
       "      <td>0.008405</td>\n",
       "      <td>0.142458</td>\n",
       "      <td>0.001256</td>\n",
       "      <td>0.0</td>\n",
       "      <td>0.001145</td>\n",
       "      <td>0.008097</td>\n",
       "      <td>0.090299</td>\n",
       "      <td>...</td>\n",
       "      <td>0.0</td>\n",
       "      <td>0.0</td>\n",
       "      <td>0.0</td>\n",
       "      <td>1.0</td>\n",
       "      <td>0.0</td>\n",
       "      <td>1.0</td>\n",
       "      <td>0.0</td>\n",
       "      <td>0.0</td>\n",
       "      <td>0.0</td>\n",
       "      <td>0.0</td>\n",
       "    </tr>\n",
       "    <tr>\n",
       "      <th>71135</th>\n",
       "      <td>0.588566</td>\n",
       "      <td>0.104117</td>\n",
       "      <td>0.333214</td>\n",
       "      <td>0.000480</td>\n",
       "      <td>0.218904</td>\n",
       "      <td>0.093946</td>\n",
       "      <td>0.0</td>\n",
       "      <td>0.207293</td>\n",
       "      <td>0.259302</td>\n",
       "      <td>0.540232</td>\n",
       "      <td>...</td>\n",
       "      <td>0.0</td>\n",
       "      <td>1.0</td>\n",
       "      <td>0.0</td>\n",
       "      <td>0.0</td>\n",
       "      <td>0.0</td>\n",
       "      <td>1.0</td>\n",
       "      <td>0.0</td>\n",
       "      <td>0.0</td>\n",
       "      <td>0.0</td>\n",
       "      <td>0.0</td>\n",
       "    </tr>\n",
       "    <tr>\n",
       "      <th>91812</th>\n",
       "      <td>0.832024</td>\n",
       "      <td>0.004949</td>\n",
       "      <td>1.001663</td>\n",
       "      <td>0.003874</td>\n",
       "      <td>0.192855</td>\n",
       "      <td>0.003939</td>\n",
       "      <td>0.0</td>\n",
       "      <td>0.109171</td>\n",
       "      <td>0.130290</td>\n",
       "      <td>0.192851</td>\n",
       "      <td>...</td>\n",
       "      <td>0.0</td>\n",
       "      <td>1.0</td>\n",
       "      <td>0.0</td>\n",
       "      <td>0.0</td>\n",
       "      <td>0.0</td>\n",
       "      <td>1.0</td>\n",
       "      <td>0.0</td>\n",
       "      <td>0.0</td>\n",
       "      <td>0.0</td>\n",
       "      <td>0.0</td>\n",
       "    </tr>\n",
       "  </tbody>\n",
       "</table>\n",
       "<p>20713 rows × 57 columns</p>\n",
       "</div>"
      ],
      "text/plain": [
       "             P_2       B_1       B_2       R_1       S_3       B_3  D_42  \\\n",
       "50699   0.466075  0.148131  0.092552  0.501359  0.123382  0.447703   0.0   \n",
       "63573   0.461154  0.029179  0.059622  0.004583  0.173706  0.062602   0.0   \n",
       "109847  0.844817  0.172716  0.022588  0.004321  0.255108  0.483036   0.0   \n",
       "81647   0.390839  0.003484  0.812953  0.004521  0.000000  0.006730   0.0   \n",
       "32255   0.531923  0.519495  0.044563  0.259270  0.136752  0.805830   0.0   \n",
       "...          ...       ...       ...       ...       ...       ...   ...   \n",
       "2418    0.868224  0.015248  0.816805  0.000561  0.434756  0.018087   0.0   \n",
       "59996   0.616328  0.295959  0.076041  0.009304  0.497519  0.213557   0.0   \n",
       "1200    0.847561  0.016400  1.005889  0.008405  0.142458  0.001256   0.0   \n",
       "71135   0.588566  0.104117  0.333214  0.000480  0.218904  0.093946   0.0   \n",
       "91812   0.832024  0.004949  1.001663  0.003874  0.192855  0.003939   0.0   \n",
       "\n",
       "            D_43      D_44       B_4  ...   -1    O    R    U   CL   CO   CR  \\\n",
       "50699   0.000000  0.252772  0.320829  ...  0.0  1.0  0.0  0.0  0.0  0.0  1.0   \n",
       "63573   0.051569  0.005333  0.174487  ...  0.0  1.0  0.0  0.0  0.0  1.0  0.0   \n",
       "109847  0.032942  0.002843  0.019655  ...  0.0  1.0  0.0  0.0  0.0  0.0  1.0   \n",
       "81647   0.000000  0.131354  0.245824  ...  0.0  1.0  0.0  0.0  0.0  1.0  0.0   \n",
       "32255   0.118133  0.130996  1.237683  ...  0.0  1.0  0.0  0.0  1.0  0.0  0.0   \n",
       "...          ...       ...       ...  ...  ...  ...  ...  ...  ...  ...  ...   \n",
       "2418    0.064153  0.009765  0.043205  ...  0.0  0.0  0.0  1.0  0.0  1.0  0.0   \n",
       "59996   0.022040  0.134298  0.594601  ...  0.0  0.0  1.0  0.0  1.0  0.0  0.0   \n",
       "1200    0.001145  0.008097  0.090299  ...  0.0  0.0  0.0  1.0  0.0  1.0  0.0   \n",
       "71135   0.207293  0.259302  0.540232  ...  0.0  1.0  0.0  0.0  0.0  1.0  0.0   \n",
       "91812   0.109171  0.130290  0.192851  ...  0.0  1.0  0.0  0.0  0.0  1.0  0.0   \n",
       "\n",
       "         XL   XM   XZ  \n",
       "50699   0.0  0.0  0.0  \n",
       "63573   0.0  0.0  0.0  \n",
       "109847  0.0  0.0  0.0  \n",
       "81647   0.0  0.0  0.0  \n",
       "32255   0.0  0.0  0.0  \n",
       "...     ...  ...  ...  \n",
       "2418    0.0  0.0  0.0  \n",
       "59996   0.0  0.0  0.0  \n",
       "1200    0.0  0.0  0.0  \n",
       "71135   0.0  0.0  0.0  \n",
       "91812   0.0  0.0  0.0  \n",
       "\n",
       "[20713 rows x 57 columns]"
      ]
     },
     "execution_count": 57,
     "metadata": {},
     "output_type": "execute_result"
    }
   ],
   "source": [
    "no_clas2"
   ]
  },
  {
   "cell_type": "code",
   "execution_count": 58,
   "id": "9d087bc6",
   "metadata": {
    "execution": {
     "iopub.execute_input": "2022-08-02T02:36:48.344639Z",
     "iopub.status.busy": "2022-08-02T02:36:48.343181Z",
     "iopub.status.idle": "2022-08-02T02:36:48.356456Z",
     "shell.execute_reply": "2022-08-02T02:36:48.355284Z"
    },
    "papermill": {
     "duration": 0.053713,
     "end_time": "2022-08-02T02:36:48.358724",
     "exception": false,
     "start_time": "2022-08-02T02:36:48.305011",
     "status": "completed"
    },
    "tags": []
   },
   "outputs": [
    {
     "data": {
      "text/html": [
       "<div>\n",
       "<style scoped>\n",
       "    .dataframe tbody tr th:only-of-type {\n",
       "        vertical-align: middle;\n",
       "    }\n",
       "\n",
       "    .dataframe tbody tr th {\n",
       "        vertical-align: top;\n",
       "    }\n",
       "\n",
       "    .dataframe thead th {\n",
       "        text-align: right;\n",
       "    }\n",
       "</style>\n",
       "<table border=\"1\" class=\"dataframe\">\n",
       "  <thead>\n",
       "    <tr style=\"text-align: right;\">\n",
       "      <th></th>\n",
       "      <th>target</th>\n",
       "      <th>predict</th>\n",
       "    </tr>\n",
       "  </thead>\n",
       "  <tbody>\n",
       "    <tr>\n",
       "      <th>98383</th>\n",
       "      <td>1</td>\n",
       "      <td>1</td>\n",
       "    </tr>\n",
       "    <tr>\n",
       "      <th>42512</th>\n",
       "      <td>1</td>\n",
       "      <td>1</td>\n",
       "    </tr>\n",
       "    <tr>\n",
       "      <th>91766</th>\n",
       "      <td>1</td>\n",
       "      <td>1</td>\n",
       "    </tr>\n",
       "    <tr>\n",
       "      <th>29521</th>\n",
       "      <td>1</td>\n",
       "      <td>1</td>\n",
       "    </tr>\n",
       "    <tr>\n",
       "      <th>16559</th>\n",
       "      <td>1</td>\n",
       "      <td>1</td>\n",
       "    </tr>\n",
       "    <tr>\n",
       "      <th>...</th>\n",
       "      <td>...</td>\n",
       "      <td>...</td>\n",
       "    </tr>\n",
       "    <tr>\n",
       "      <th>59785</th>\n",
       "      <td>1</td>\n",
       "      <td>1</td>\n",
       "    </tr>\n",
       "    <tr>\n",
       "      <th>24267</th>\n",
       "      <td>1</td>\n",
       "      <td>1</td>\n",
       "    </tr>\n",
       "    <tr>\n",
       "      <th>97273</th>\n",
       "      <td>1</td>\n",
       "      <td>1</td>\n",
       "    </tr>\n",
       "    <tr>\n",
       "      <th>45487</th>\n",
       "      <td>1</td>\n",
       "      <td>1</td>\n",
       "    </tr>\n",
       "    <tr>\n",
       "      <th>11099</th>\n",
       "      <td>1</td>\n",
       "      <td>1</td>\n",
       "    </tr>\n",
       "  </tbody>\n",
       "</table>\n",
       "<p>2263 rows × 2 columns</p>\n",
       "</div>"
      ],
      "text/plain": [
       "       target  predict\n",
       "98383       1        1\n",
       "42512       1        1\n",
       "91766       1        1\n",
       "29521       1        1\n",
       "16559       1        1\n",
       "...       ...      ...\n",
       "59785       1        1\n",
       "24267       1        1\n",
       "97273       1        1\n",
       "45487       1        1\n",
       "11099       1        1\n",
       "\n",
       "[2263 rows x 2 columns]"
      ]
     },
     "execution_count": 58,
     "metadata": {},
     "output_type": "execute_result"
    }
   ],
   "source": [
    "out2"
   ]
  },
  {
   "cell_type": "code",
   "execution_count": 59,
   "id": "a8e73e72",
   "metadata": {
    "execution": {
     "iopub.execute_input": "2022-08-02T02:36:48.436765Z",
     "iopub.status.busy": "2022-08-02T02:36:48.436122Z",
     "iopub.status.idle": "2022-08-02T02:36:48.694185Z",
     "shell.execute_reply": "2022-08-02T02:36:48.693294Z"
    },
    "papermill": {
     "duration": 0.300158,
     "end_time": "2022-08-02T02:36:48.696526",
     "exception": false,
     "start_time": "2022-08-02T02:36:48.396368",
     "status": "completed"
    },
    "tags": []
   },
   "outputs": [
    {
     "data": {
      "text/plain": [
       "Text(48.5, 0.5, 'True')"
      ]
     },
     "execution_count": 59,
     "metadata": {},
     "output_type": "execute_result"
    },
    {
     "data": {
      "image/png": "[encoded data removed]",
      "text/plain": [
       "<Figure size 576x576 with 2 Axes>"
      ]
     },
     "metadata": {},
     "output_type": "display_data"
    }
   ],
   "source": [
    "tabla = confusion_matrix(out2['target'], out2['predict'])\n",
    "sns.heatmap(tabla,annot=True, fmt='g')\n",
    "plt.xlabel('Predicted')\n",
    "plt.ylabel('True')"
   ]
  },
  {
   "cell_type": "code",
   "execution_count": 60,
   "id": "f25a411a",
   "metadata": {
    "execution": {
     "iopub.execute_input": "2022-08-02T02:36:48.773980Z",
     "iopub.status.busy": "2022-08-02T02:36:48.773545Z",
     "iopub.status.idle": "2022-08-02T02:36:48.787309Z",
     "shell.execute_reply": "2022-08-02T02:36:48.785446Z"
    },
    "papermill": {
     "duration": 0.056761,
     "end_time": "2022-08-02T02:36:48.790719",
     "exception": false,
     "start_time": "2022-08-02T02:36:48.733958",
     "status": "completed"
    },
    "tags": []
   },
   "outputs": [
    {
     "name": "stdout",
     "output_type": "stream",
     "text": [
      "Accuracy: 0.9947368421052631\n",
      "Recall: 1.0\n",
      "F1: 0.9973614775725593\n"
     ]
    }
   ],
   "source": [
    "print(\"Accuracy: \" + str(accuracy_score(out['target'], out['predict'], normalize=True)))\n",
    "print(\"Recall: \" + str(recall_score(out['target'], out['predict'])))\n",
    "print(\"F1: \" + str(f1_score(out['target'], out['predict'])))"
   ]
  }
 ],
 "metadata": {
  "kernelspec": {
   "display_name": "Python 3",
   "language": "python",
   "name": "python3"
  },
  "language_info": {
   "codemirror_mode": {
    "name": "ipython",
    "version": 3
   },
   "file_extension": ".py",
   "mimetype": "text/x-python",
   "name": "python",
   "nbconvert_exporter": "python",
   "pygments_lexer": "ipython3",
   "version": "3.7.12"
  },
  "papermill": {
   "default_parameters": {},
   "duration": 162.802438,
   "end_time": "2022-08-02T02:36:51.991246",
   "environment_variables": {},
   "exception": null,
   "input_path": "__notebook__.ipynb",
   "output_path": "__notebook__.ipynb",
   "parameters": {},
   "start_time": "2022-08-02T02:34:09.188808",
   "version": "2.3.4"
  }
 },
 "nbformat": 4,
 "nbformat_minor": 5
}
